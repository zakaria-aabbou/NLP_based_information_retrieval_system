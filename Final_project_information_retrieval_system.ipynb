{
  "cells": [
    {
      "cell_type": "markdown",
      "metadata": {
        "id": "view-in-github",
        "colab_type": "text"
      },
      "source": [
        "<a href=\"https://colab.research.google.com/github/zakaria-aabbou/NLP_based_information_retrieval_system/blob/main/Final_project_information_retrieval_system.ipynb\" target=\"_parent\"><img src=\"https://colab.research.google.com/assets/colab-badge.svg\" alt=\"Open In Colab\"/></a>"
      ]
    },
    {
      "cell_type": "markdown",
      "metadata": {
        "id": "8Mp1I-A0lVzK"
      },
      "source": [
        "<h1 style=\"text-align:center;font-size: 3em\"> Project </h1>"
      ]
    },
    {
      "cell_type": "markdown",
      "metadata": {
        "id": "9qfU6TtjlVzP"
      },
      "source": [
        "<p style=\"text-align:left;font-size: 1.3em\">\n",
        "The information retrieval methods are needed to find the most relevant documents to\n",
        "a given query. The words contained in the web pages can be modeled using different\n",
        "approaches such as Boolean models, vector space models, and probabilistic models.\n",
        "In this project, we have decided to use the vector space models and particularly the\n",
        "Doc2Vec (or word2vec) technique.\n",
        " </p>\n",
        "<p style=\"text-align:left;font-size: 1.3em\">\n",
        "This project aims at developing an information retrieval system based on the word\n",
        "embedding technique “Doc2Vec (or word2vec)”. The documents and the query will be\n",
        "represented by embedding vectors. The similarity between the query vector and each\n",
        "document will be computed using cosine similarity measure. Furthermore, to measure\n",
        "the effectiveness of this information retrieval system, you might use the TREC test collection\n",
        "(dataset) available on this website:\n",
        " </p>\n",
        " <a href = 'https://trec.nist.gov/data.html'> https://trec.nist.gov/data.html </a>"
      ]
    },
    {
      "cell_type": "markdown",
      "metadata": {
        "id": "xyPex-0ClVzR"
      },
      "source": [
        "Tasks:\n",
        "- Information retrieval system\n",
        "- Query ==> most relevant documents\n",
        "- Vector Space Models ==> Word Embedding technique *Doc2Vec* or *word2vec*\n",
        "- Documents + Query = Vectors\n",
        "- Cosine_similarity(Query , each document )\n",
        "- use the TREC test collection (dataset) to measure the effectiveness of this information retrieval system"
      ]
    },
    {
      "cell_type": "markdown",
      "metadata": {
        "id": "GXDu-tfGlVzS"
      },
      "source": [
        "***"
      ]
    },
    {
      "cell_type": "markdown",
      "metadata": {
        "id": "zxMAX-kHlVzT"
      },
      "source": [
        "In this project we will use the document ranking dataset from **TREC 2019 Deep Learning Track**. The dataset contains  367k queries and a corpus of 3.2 million documents."
      ]
    },
    {
      "cell_type": "code",
      "source": [
        "from google.colab import drive\n",
        "drive.mount('/content/drive')"
      ],
      "metadata": {
        "colab": {
          "base_uri": "https://localhost:8080/"
        },
        "id": "mvN53V4zlhh5",
        "outputId": "f72615fa-9ddd-4545-d2bc-bc9d94a21bd9"
      },
      "execution_count": 1,
      "outputs": [
        {
          "output_type": "stream",
          "name": "stdout",
          "text": [
            "Mounted at /content/drive\n"
          ]
        }
      ]
    },
    {
      "cell_type": "markdown",
      "metadata": {
        "id": "DlyCiEpVlVzT"
      },
      "source": [
        "# Import data"
      ]
    },
    {
      "cell_type": "code",
      "execution_count": 2,
      "metadata": {
        "id": "S-cPL68ulVzU"
      },
      "outputs": [],
      "source": [
        "import pandas as pd\n",
        "import numpy as np\n",
        "pd.options.mode.chained_assignment = None  # default='warn'"
      ]
    },
    {
      "cell_type": "markdown",
      "metadata": {
        "id": "Img0IP-_lVzV"
      },
      "source": [
        "#### Import queries"
      ]
    },
    {
      "cell_type": "code",
      "source": [
        "path = '/content/drive/MyDrive/Colab Notebooks/Data/web_mining_project/'"
      ],
      "metadata": {
        "id": "s2OJWNCDlxGQ"
      },
      "execution_count": 3,
      "outputs": []
    },
    {
      "cell_type": "code",
      "execution_count": 5,
      "metadata": {
        "id": "Un3SC0tClVzV",
        "outputId": "89592e95-8e09-46f0-fe46-b8668412c059",
        "colab": {
          "base_uri": "https://localhost:8080/",
          "height": 223
        }
      },
      "outputs": [
        {
          "output_type": "stream",
          "name": "stdout",
          "text": [
            "Shape of the queries : (2000, 2)\n"
          ]
        },
        {
          "output_type": "execute_result",
          "data": {
            "text/html": [
              "\n",
              "  <div id=\"df-e1dbe1d2-762e-4335-af86-6b94465a94d4\">\n",
              "    <div class=\"colab-df-container\">\n",
              "      <div>\n",
              "<style scoped>\n",
              "    .dataframe tbody tr th:only-of-type {\n",
              "        vertical-align: middle;\n",
              "    }\n",
              "\n",
              "    .dataframe tbody tr th {\n",
              "        vertical-align: top;\n",
              "    }\n",
              "\n",
              "    .dataframe thead th {\n",
              "        text-align: right;\n",
              "    }\n",
              "</style>\n",
              "<table border=\"1\" class=\"dataframe\">\n",
              "  <thead>\n",
              "    <tr style=\"text-align: right;\">\n",
              "      <th></th>\n",
              "      <th>qid</th>\n",
              "      <th>query</th>\n",
              "    </tr>\n",
              "  </thead>\n",
              "  <tbody>\n",
              "    <tr>\n",
              "      <th>0</th>\n",
              "      <td>687888</td>\n",
              "      <td>what is a jpe</td>\n",
              "    </tr>\n",
              "    <tr>\n",
              "      <th>1</th>\n",
              "      <td>480210</td>\n",
              "      <td>price for asphalt driveway</td>\n",
              "    </tr>\n",
              "    <tr>\n",
              "      <th>2</th>\n",
              "      <td>591004</td>\n",
              "      <td>what causes pressure skin bruising</td>\n",
              "    </tr>\n",
              "    <tr>\n",
              "      <th>3</th>\n",
              "      <td>260536</td>\n",
              "      <td>how long drive from flagstaff to grand canyon</td>\n",
              "    </tr>\n",
              "    <tr>\n",
              "      <th>4</th>\n",
              "      <td>39422</td>\n",
              "      <td>average number of bowel movements per day for ...</td>\n",
              "    </tr>\n",
              "  </tbody>\n",
              "</table>\n",
              "</div>\n",
              "      <button class=\"colab-df-convert\" onclick=\"convertToInteractive('df-e1dbe1d2-762e-4335-af86-6b94465a94d4')\"\n",
              "              title=\"Convert this dataframe to an interactive table.\"\n",
              "              style=\"display:none;\">\n",
              "        \n",
              "  <svg xmlns=\"http://www.w3.org/2000/svg\" height=\"24px\"viewBox=\"0 0 24 24\"\n",
              "       width=\"24px\">\n",
              "    <path d=\"M0 0h24v24H0V0z\" fill=\"none\"/>\n",
              "    <path d=\"M18.56 5.44l.94 2.06.94-2.06 2.06-.94-2.06-.94-.94-2.06-.94 2.06-2.06.94zm-11 1L8.5 8.5l.94-2.06 2.06-.94-2.06-.94L8.5 2.5l-.94 2.06-2.06.94zm10 10l.94 2.06.94-2.06 2.06-.94-2.06-.94-.94-2.06-.94 2.06-2.06.94z\"/><path d=\"M17.41 7.96l-1.37-1.37c-.4-.4-.92-.59-1.43-.59-.52 0-1.04.2-1.43.59L10.3 9.45l-7.72 7.72c-.78.78-.78 2.05 0 2.83L4 21.41c.39.39.9.59 1.41.59.51 0 1.02-.2 1.41-.59l7.78-7.78 2.81-2.81c.8-.78.8-2.07 0-2.86zM5.41 20L4 18.59l7.72-7.72 1.47 1.35L5.41 20z\"/>\n",
              "  </svg>\n",
              "      </button>\n",
              "      \n",
              "  <style>\n",
              "    .colab-df-container {\n",
              "      display:flex;\n",
              "      flex-wrap:wrap;\n",
              "      gap: 12px;\n",
              "    }\n",
              "\n",
              "    .colab-df-convert {\n",
              "      background-color: #E8F0FE;\n",
              "      border: none;\n",
              "      border-radius: 50%;\n",
              "      cursor: pointer;\n",
              "      display: none;\n",
              "      fill: #1967D2;\n",
              "      height: 32px;\n",
              "      padding: 0 0 0 0;\n",
              "      width: 32px;\n",
              "    }\n",
              "\n",
              "    .colab-df-convert:hover {\n",
              "      background-color: #E2EBFA;\n",
              "      box-shadow: 0px 1px 2px rgba(60, 64, 67, 0.3), 0px 1px 3px 1px rgba(60, 64, 67, 0.15);\n",
              "      fill: #174EA6;\n",
              "    }\n",
              "\n",
              "    [theme=dark] .colab-df-convert {\n",
              "      background-color: #3B4455;\n",
              "      fill: #D2E3FC;\n",
              "    }\n",
              "\n",
              "    [theme=dark] .colab-df-convert:hover {\n",
              "      background-color: #434B5C;\n",
              "      box-shadow: 0px 1px 3px 1px rgba(0, 0, 0, 0.15);\n",
              "      filter: drop-shadow(0px 1px 2px rgba(0, 0, 0, 0.3));\n",
              "      fill: #FFFFFF;\n",
              "    }\n",
              "  </style>\n",
              "\n",
              "      <script>\n",
              "        const buttonEl =\n",
              "          document.querySelector('#df-e1dbe1d2-762e-4335-af86-6b94465a94d4 button.colab-df-convert');\n",
              "        buttonEl.style.display =\n",
              "          google.colab.kernel.accessAllowed ? 'block' : 'none';\n",
              "\n",
              "        async function convertToInteractive(key) {\n",
              "          const element = document.querySelector('#df-e1dbe1d2-762e-4335-af86-6b94465a94d4');\n",
              "          const dataTable =\n",
              "            await google.colab.kernel.invokeFunction('convertToInteractive',\n",
              "                                                     [key], {});\n",
              "          if (!dataTable) return;\n",
              "\n",
              "          const docLinkHtml = 'Like what you see? Visit the ' +\n",
              "            '<a target=\"_blank\" href=https://colab.research.google.com/notebooks/data_table.ipynb>data table notebook</a>'\n",
              "            + ' to learn more about interactive tables.';\n",
              "          element.innerHTML = '';\n",
              "          dataTable['output_type'] = 'display_data';\n",
              "          await google.colab.output.renderOutput(dataTable, element);\n",
              "          const docLink = document.createElement('div');\n",
              "          docLink.innerHTML = docLinkHtml;\n",
              "          element.appendChild(docLink);\n",
              "        }\n",
              "      </script>\n",
              "    </div>\n",
              "  </div>\n",
              "  "
            ],
            "text/plain": [
              "      qid                                              query\n",
              "0  687888                                      what is a jpe\n",
              "1  480210                         price for asphalt driveway\n",
              "2  591004                 what causes pressure skin bruising\n",
              "3  260536      how long drive from flagstaff to grand canyon\n",
              "4   39422  average number of bowel movements per day for ..."
            ]
          },
          "metadata": {},
          "execution_count": 5
        }
      ],
      "source": [
        "queries = pd.read_csv(path + 'queries.csv')\n",
        "print('Shape of the queries :',queries.shape)\n",
        "queries.head()"
      ]
    },
    {
      "cell_type": "markdown",
      "metadata": {
        "id": "DiYBSTM-lVzW"
      },
      "source": [
        "#### Creating Training Set of Queries"
      ]
    },
    {
      "cell_type": "code",
      "execution_count": 6,
      "metadata": {
        "id": "swvWO7N8lVzW",
        "outputId": "18a0e1a7-4d7b-439e-8837-4d6761b8c2e0",
        "colab": {
          "base_uri": "https://localhost:8080/",
          "height": 223
        }
      },
      "outputs": [
        {
          "output_type": "stream",
          "name": "stdout",
          "text": [
            "Shape of the Training Set of Queries : (1000, 2)\n"
          ]
        },
        {
          "output_type": "execute_result",
          "data": {
            "text/html": [
              "\n",
              "  <div id=\"df-80dfee6f-490c-479c-a7e7-93e374cb73b4\">\n",
              "    <div class=\"colab-df-container\">\n",
              "      <div>\n",
              "<style scoped>\n",
              "    .dataframe tbody tr th:only-of-type {\n",
              "        vertical-align: middle;\n",
              "    }\n",
              "\n",
              "    .dataframe tbody tr th {\n",
              "        vertical-align: top;\n",
              "    }\n",
              "\n",
              "    .dataframe thead th {\n",
              "        text-align: right;\n",
              "    }\n",
              "</style>\n",
              "<table border=\"1\" class=\"dataframe\">\n",
              "  <thead>\n",
              "    <tr style=\"text-align: right;\">\n",
              "      <th></th>\n",
              "      <th>qid</th>\n",
              "      <th>query</th>\n",
              "    </tr>\n",
              "  </thead>\n",
              "  <tbody>\n",
              "    <tr>\n",
              "      <th>0</th>\n",
              "      <td>687888</td>\n",
              "      <td>what is a jpe</td>\n",
              "    </tr>\n",
              "    <tr>\n",
              "      <th>1</th>\n",
              "      <td>480210</td>\n",
              "      <td>price for asphalt driveway</td>\n",
              "    </tr>\n",
              "    <tr>\n",
              "      <th>2</th>\n",
              "      <td>591004</td>\n",
              "      <td>what causes pressure skin bruising</td>\n",
              "    </tr>\n",
              "    <tr>\n",
              "      <th>3</th>\n",
              "      <td>260536</td>\n",
              "      <td>how long drive from flagstaff to grand canyon</td>\n",
              "    </tr>\n",
              "    <tr>\n",
              "      <th>4</th>\n",
              "      <td>39422</td>\n",
              "      <td>average number of bowel movements per day for ...</td>\n",
              "    </tr>\n",
              "  </tbody>\n",
              "</table>\n",
              "</div>\n",
              "      <button class=\"colab-df-convert\" onclick=\"convertToInteractive('df-80dfee6f-490c-479c-a7e7-93e374cb73b4')\"\n",
              "              title=\"Convert this dataframe to an interactive table.\"\n",
              "              style=\"display:none;\">\n",
              "        \n",
              "  <svg xmlns=\"http://www.w3.org/2000/svg\" height=\"24px\"viewBox=\"0 0 24 24\"\n",
              "       width=\"24px\">\n",
              "    <path d=\"M0 0h24v24H0V0z\" fill=\"none\"/>\n",
              "    <path d=\"M18.56 5.44l.94 2.06.94-2.06 2.06-.94-2.06-.94-.94-2.06-.94 2.06-2.06.94zm-11 1L8.5 8.5l.94-2.06 2.06-.94-2.06-.94L8.5 2.5l-.94 2.06-2.06.94zm10 10l.94 2.06.94-2.06 2.06-.94-2.06-.94-.94-2.06-.94 2.06-2.06.94z\"/><path d=\"M17.41 7.96l-1.37-1.37c-.4-.4-.92-.59-1.43-.59-.52 0-1.04.2-1.43.59L10.3 9.45l-7.72 7.72c-.78.78-.78 2.05 0 2.83L4 21.41c.39.39.9.59 1.41.59.51 0 1.02-.2 1.41-.59l7.78-7.78 2.81-2.81c.8-.78.8-2.07 0-2.86zM5.41 20L4 18.59l7.72-7.72 1.47 1.35L5.41 20z\"/>\n",
              "  </svg>\n",
              "      </button>\n",
              "      \n",
              "  <style>\n",
              "    .colab-df-container {\n",
              "      display:flex;\n",
              "      flex-wrap:wrap;\n",
              "      gap: 12px;\n",
              "    }\n",
              "\n",
              "    .colab-df-convert {\n",
              "      background-color: #E8F0FE;\n",
              "      border: none;\n",
              "      border-radius: 50%;\n",
              "      cursor: pointer;\n",
              "      display: none;\n",
              "      fill: #1967D2;\n",
              "      height: 32px;\n",
              "      padding: 0 0 0 0;\n",
              "      width: 32px;\n",
              "    }\n",
              "\n",
              "    .colab-df-convert:hover {\n",
              "      background-color: #E2EBFA;\n",
              "      box-shadow: 0px 1px 2px rgba(60, 64, 67, 0.3), 0px 1px 3px 1px rgba(60, 64, 67, 0.15);\n",
              "      fill: #174EA6;\n",
              "    }\n",
              "\n",
              "    [theme=dark] .colab-df-convert {\n",
              "      background-color: #3B4455;\n",
              "      fill: #D2E3FC;\n",
              "    }\n",
              "\n",
              "    [theme=dark] .colab-df-convert:hover {\n",
              "      background-color: #434B5C;\n",
              "      box-shadow: 0px 1px 3px 1px rgba(0, 0, 0, 0.15);\n",
              "      filter: drop-shadow(0px 1px 2px rgba(0, 0, 0, 0.3));\n",
              "      fill: #FFFFFF;\n",
              "    }\n",
              "  </style>\n",
              "\n",
              "      <script>\n",
              "        const buttonEl =\n",
              "          document.querySelector('#df-80dfee6f-490c-479c-a7e7-93e374cb73b4 button.colab-df-convert');\n",
              "        buttonEl.style.display =\n",
              "          google.colab.kernel.accessAllowed ? 'block' : 'none';\n",
              "\n",
              "        async function convertToInteractive(key) {\n",
              "          const element = document.querySelector('#df-80dfee6f-490c-479c-a7e7-93e374cb73b4');\n",
              "          const dataTable =\n",
              "            await google.colab.kernel.invokeFunction('convertToInteractive',\n",
              "                                                     [key], {});\n",
              "          if (!dataTable) return;\n",
              "\n",
              "          const docLinkHtml = 'Like what you see? Visit the ' +\n",
              "            '<a target=\"_blank\" href=https://colab.research.google.com/notebooks/data_table.ipynb>data table notebook</a>'\n",
              "            + ' to learn more about interactive tables.';\n",
              "          element.innerHTML = '';\n",
              "          dataTable['output_type'] = 'display_data';\n",
              "          await google.colab.output.renderOutput(dataTable, element);\n",
              "          const docLink = document.createElement('div');\n",
              "          docLink.innerHTML = docLinkHtml;\n",
              "          element.appendChild(docLink);\n",
              "        }\n",
              "      </script>\n",
              "    </div>\n",
              "  </div>\n",
              "  "
            ],
            "text/plain": [
              "      qid                                              query\n",
              "0  687888                                      what is a jpe\n",
              "1  480210                         price for asphalt driveway\n",
              "2  591004                 what causes pressure skin bruising\n",
              "3  260536      how long drive from flagstaff to grand canyon\n",
              "4   39422  average number of bowel movements per day for ..."
            ]
          },
          "metadata": {},
          "execution_count": 6
        }
      ],
      "source": [
        "training_queries=queries.iloc[:1000]\n",
        "print('Shape of the Training Set of Queries :',training_queries.shape)\n",
        "training_queries.head()"
      ]
    },
    {
      "cell_type": "markdown",
      "metadata": {
        "id": "PE3fDv-2lVzX"
      },
      "source": [
        "#### Creating Testing Set of Queries"
      ]
    },
    {
      "cell_type": "code",
      "execution_count": 7,
      "metadata": {
        "id": "xCNB9UoAlVzX",
        "outputId": "6d840dfc-a59b-4fd7-f131-f533c9f36d30",
        "colab": {
          "base_uri": "https://localhost:8080/",
          "height": 223
        }
      },
      "outputs": [
        {
          "output_type": "stream",
          "name": "stdout",
          "text": [
            "Shape of Testing Set of Queries (1000, 2)\n"
          ]
        },
        {
          "output_type": "execute_result",
          "data": {
            "text/html": [
              "\n",
              "  <div id=\"df-afbcea78-bf4c-4c93-924a-b5f15cf49ca2\">\n",
              "    <div class=\"colab-df-container\">\n",
              "      <div>\n",
              "<style scoped>\n",
              "    .dataframe tbody tr th:only-of-type {\n",
              "        vertical-align: middle;\n",
              "    }\n",
              "\n",
              "    .dataframe tbody tr th {\n",
              "        vertical-align: top;\n",
              "    }\n",
              "\n",
              "    .dataframe thead th {\n",
              "        text-align: right;\n",
              "    }\n",
              "</style>\n",
              "<table border=\"1\" class=\"dataframe\">\n",
              "  <thead>\n",
              "    <tr style=\"text-align: right;\">\n",
              "      <th></th>\n",
              "      <th>qid</th>\n",
              "      <th>query</th>\n",
              "    </tr>\n",
              "  </thead>\n",
              "  <tbody>\n",
              "    <tr>\n",
              "      <th>1000</th>\n",
              "      <td>807599</td>\n",
              "      <td>what is the axis mundi?</td>\n",
              "    </tr>\n",
              "    <tr>\n",
              "      <th>1001</th>\n",
              "      <td>990945</td>\n",
              "      <td>where is pratt kansas</td>\n",
              "    </tr>\n",
              "    <tr>\n",
              "      <th>1002</th>\n",
              "      <td>48210</td>\n",
              "      <td>backordered definition</td>\n",
              "    </tr>\n",
              "    <tr>\n",
              "      <th>1003</th>\n",
              "      <td>894254</td>\n",
              "      <td>what show did simon baker play in</td>\n",
              "    </tr>\n",
              "    <tr>\n",
              "      <th>1004</th>\n",
              "      <td>165579</td>\n",
              "      <td>does dna replication in mitosis and meiosis</td>\n",
              "    </tr>\n",
              "  </tbody>\n",
              "</table>\n",
              "</div>\n",
              "      <button class=\"colab-df-convert\" onclick=\"convertToInteractive('df-afbcea78-bf4c-4c93-924a-b5f15cf49ca2')\"\n",
              "              title=\"Convert this dataframe to an interactive table.\"\n",
              "              style=\"display:none;\">\n",
              "        \n",
              "  <svg xmlns=\"http://www.w3.org/2000/svg\" height=\"24px\"viewBox=\"0 0 24 24\"\n",
              "       width=\"24px\">\n",
              "    <path d=\"M0 0h24v24H0V0z\" fill=\"none\"/>\n",
              "    <path d=\"M18.56 5.44l.94 2.06.94-2.06 2.06-.94-2.06-.94-.94-2.06-.94 2.06-2.06.94zm-11 1L8.5 8.5l.94-2.06 2.06-.94-2.06-.94L8.5 2.5l-.94 2.06-2.06.94zm10 10l.94 2.06.94-2.06 2.06-.94-2.06-.94-.94-2.06-.94 2.06-2.06.94z\"/><path d=\"M17.41 7.96l-1.37-1.37c-.4-.4-.92-.59-1.43-.59-.52 0-1.04.2-1.43.59L10.3 9.45l-7.72 7.72c-.78.78-.78 2.05 0 2.83L4 21.41c.39.39.9.59 1.41.59.51 0 1.02-.2 1.41-.59l7.78-7.78 2.81-2.81c.8-.78.8-2.07 0-2.86zM5.41 20L4 18.59l7.72-7.72 1.47 1.35L5.41 20z\"/>\n",
              "  </svg>\n",
              "      </button>\n",
              "      \n",
              "  <style>\n",
              "    .colab-df-container {\n",
              "      display:flex;\n",
              "      flex-wrap:wrap;\n",
              "      gap: 12px;\n",
              "    }\n",
              "\n",
              "    .colab-df-convert {\n",
              "      background-color: #E8F0FE;\n",
              "      border: none;\n",
              "      border-radius: 50%;\n",
              "      cursor: pointer;\n",
              "      display: none;\n",
              "      fill: #1967D2;\n",
              "      height: 32px;\n",
              "      padding: 0 0 0 0;\n",
              "      width: 32px;\n",
              "    }\n",
              "\n",
              "    .colab-df-convert:hover {\n",
              "      background-color: #E2EBFA;\n",
              "      box-shadow: 0px 1px 2px rgba(60, 64, 67, 0.3), 0px 1px 3px 1px rgba(60, 64, 67, 0.15);\n",
              "      fill: #174EA6;\n",
              "    }\n",
              "\n",
              "    [theme=dark] .colab-df-convert {\n",
              "      background-color: #3B4455;\n",
              "      fill: #D2E3FC;\n",
              "    }\n",
              "\n",
              "    [theme=dark] .colab-df-convert:hover {\n",
              "      background-color: #434B5C;\n",
              "      box-shadow: 0px 1px 3px 1px rgba(0, 0, 0, 0.15);\n",
              "      filter: drop-shadow(0px 1px 2px rgba(0, 0, 0, 0.3));\n",
              "      fill: #FFFFFF;\n",
              "    }\n",
              "  </style>\n",
              "\n",
              "      <script>\n",
              "        const buttonEl =\n",
              "          document.querySelector('#df-afbcea78-bf4c-4c93-924a-b5f15cf49ca2 button.colab-df-convert');\n",
              "        buttonEl.style.display =\n",
              "          google.colab.kernel.accessAllowed ? 'block' : 'none';\n",
              "\n",
              "        async function convertToInteractive(key) {\n",
              "          const element = document.querySelector('#df-afbcea78-bf4c-4c93-924a-b5f15cf49ca2');\n",
              "          const dataTable =\n",
              "            await google.colab.kernel.invokeFunction('convertToInteractive',\n",
              "                                                     [key], {});\n",
              "          if (!dataTable) return;\n",
              "\n",
              "          const docLinkHtml = 'Like what you see? Visit the ' +\n",
              "            '<a target=\"_blank\" href=https://colab.research.google.com/notebooks/data_table.ipynb>data table notebook</a>'\n",
              "            + ' to learn more about interactive tables.';\n",
              "          element.innerHTML = '';\n",
              "          dataTable['output_type'] = 'display_data';\n",
              "          await google.colab.output.renderOutput(dataTable, element);\n",
              "          const docLink = document.createElement('div');\n",
              "          docLink.innerHTML = docLinkHtml;\n",
              "          element.appendChild(docLink);\n",
              "        }\n",
              "      </script>\n",
              "    </div>\n",
              "  </div>\n",
              "  "
            ],
            "text/plain": [
              "         qid                                        query\n",
              "1000  807599                      what is the axis mundi?\n",
              "1001  990945                        where is pratt kansas\n",
              "1002   48210                       backordered definition\n",
              "1003  894254            what show did simon baker play in\n",
              "1004  165579  does dna replication in mitosis and meiosis"
            ]
          },
          "metadata": {},
          "execution_count": 7
        }
      ],
      "source": [
        "testing_queries=queries.iloc[1000:]\n",
        "print('Shape of Testing Set of Queries',testing_queries.shape)\n",
        "testing_queries.head()"
      ]
    },
    {
      "cell_type": "markdown",
      "metadata": {
        "id": "FNp4TD20lVzX"
      },
      "source": [
        "#### Load the training data containing the top 100 documents for each query"
      ]
    },
    {
      "cell_type": "code",
      "execution_count": 8,
      "metadata": {
        "id": "lcH0jmOHlVzY"
      },
      "outputs": [],
      "source": [
        "train_top100 = pd.read_csv(path + 'training_ranked100.csv')"
      ]
    },
    {
      "cell_type": "code",
      "execution_count": 9,
      "metadata": {
        "id": "0l6vtsfPlVzY",
        "outputId": "68cfdc04-d2b4-4147-88e5-e9aec732f487",
        "colab": {
          "base_uri": "https://localhost:8080/",
          "height": 223
        }
      },
      "outputs": [
        {
          "output_type": "stream",
          "name": "stdout",
          "text": [
            "Shape of training_ranked100:  (100000, 6)\n"
          ]
        },
        {
          "output_type": "execute_result",
          "data": {
            "text/html": [
              "\n",
              "  <div id=\"df-ab6ae967-4748-4195-914e-60234aacdc6d\">\n",
              "    <div class=\"colab-df-container\">\n",
              "      <div>\n",
              "<style scoped>\n",
              "    .dataframe tbody tr th:only-of-type {\n",
              "        vertical-align: middle;\n",
              "    }\n",
              "\n",
              "    .dataframe tbody tr th {\n",
              "        vertical-align: top;\n",
              "    }\n",
              "\n",
              "    .dataframe thead th {\n",
              "        text-align: right;\n",
              "    }\n",
              "</style>\n",
              "<table border=\"1\" class=\"dataframe\">\n",
              "  <thead>\n",
              "    <tr style=\"text-align: right;\">\n",
              "      <th></th>\n",
              "      <th>qid</th>\n",
              "      <th>Q0</th>\n",
              "      <th>docid</th>\n",
              "      <th>rank</th>\n",
              "      <th>score</th>\n",
              "      <th>runstring</th>\n",
              "    </tr>\n",
              "  </thead>\n",
              "  <tbody>\n",
              "    <tr>\n",
              "      <th>0</th>\n",
              "      <td>310290</td>\n",
              "      <td>Q0</td>\n",
              "      <td>D579750</td>\n",
              "      <td>1</td>\n",
              "      <td>-5.11498</td>\n",
              "      <td>IndriQueryLikelihood</td>\n",
              "    </tr>\n",
              "    <tr>\n",
              "      <th>1</th>\n",
              "      <td>310290</td>\n",
              "      <td>Q0</td>\n",
              "      <td>D579754</td>\n",
              "      <td>2</td>\n",
              "      <td>-5.57703</td>\n",
              "      <td>IndriQueryLikelihood</td>\n",
              "    </tr>\n",
              "    <tr>\n",
              "      <th>2</th>\n",
              "      <td>310290</td>\n",
              "      <td>Q0</td>\n",
              "      <td>D2380815</td>\n",
              "      <td>3</td>\n",
              "      <td>-5.84852</td>\n",
              "      <td>IndriQueryLikelihood</td>\n",
              "    </tr>\n",
              "    <tr>\n",
              "      <th>3</th>\n",
              "      <td>310290</td>\n",
              "      <td>Q0</td>\n",
              "      <td>D822566</td>\n",
              "      <td>4</td>\n",
              "      <td>-5.95002</td>\n",
              "      <td>IndriQueryLikelihood</td>\n",
              "    </tr>\n",
              "    <tr>\n",
              "      <th>4</th>\n",
              "      <td>310290</td>\n",
              "      <td>Q0</td>\n",
              "      <td>D2249695</td>\n",
              "      <td>5</td>\n",
              "      <td>-6.08326</td>\n",
              "      <td>IndriQueryLikelihood</td>\n",
              "    </tr>\n",
              "  </tbody>\n",
              "</table>\n",
              "</div>\n",
              "      <button class=\"colab-df-convert\" onclick=\"convertToInteractive('df-ab6ae967-4748-4195-914e-60234aacdc6d')\"\n",
              "              title=\"Convert this dataframe to an interactive table.\"\n",
              "              style=\"display:none;\">\n",
              "        \n",
              "  <svg xmlns=\"http://www.w3.org/2000/svg\" height=\"24px\"viewBox=\"0 0 24 24\"\n",
              "       width=\"24px\">\n",
              "    <path d=\"M0 0h24v24H0V0z\" fill=\"none\"/>\n",
              "    <path d=\"M18.56 5.44l.94 2.06.94-2.06 2.06-.94-2.06-.94-.94-2.06-.94 2.06-2.06.94zm-11 1L8.5 8.5l.94-2.06 2.06-.94-2.06-.94L8.5 2.5l-.94 2.06-2.06.94zm10 10l.94 2.06.94-2.06 2.06-.94-2.06-.94-.94-2.06-.94 2.06-2.06.94z\"/><path d=\"M17.41 7.96l-1.37-1.37c-.4-.4-.92-.59-1.43-.59-.52 0-1.04.2-1.43.59L10.3 9.45l-7.72 7.72c-.78.78-.78 2.05 0 2.83L4 21.41c.39.39.9.59 1.41.59.51 0 1.02-.2 1.41-.59l7.78-7.78 2.81-2.81c.8-.78.8-2.07 0-2.86zM5.41 20L4 18.59l7.72-7.72 1.47 1.35L5.41 20z\"/>\n",
              "  </svg>\n",
              "      </button>\n",
              "      \n",
              "  <style>\n",
              "    .colab-df-container {\n",
              "      display:flex;\n",
              "      flex-wrap:wrap;\n",
              "      gap: 12px;\n",
              "    }\n",
              "\n",
              "    .colab-df-convert {\n",
              "      background-color: #E8F0FE;\n",
              "      border: none;\n",
              "      border-radius: 50%;\n",
              "      cursor: pointer;\n",
              "      display: none;\n",
              "      fill: #1967D2;\n",
              "      height: 32px;\n",
              "      padding: 0 0 0 0;\n",
              "      width: 32px;\n",
              "    }\n",
              "\n",
              "    .colab-df-convert:hover {\n",
              "      background-color: #E2EBFA;\n",
              "      box-shadow: 0px 1px 2px rgba(60, 64, 67, 0.3), 0px 1px 3px 1px rgba(60, 64, 67, 0.15);\n",
              "      fill: #174EA6;\n",
              "    }\n",
              "\n",
              "    [theme=dark] .colab-df-convert {\n",
              "      background-color: #3B4455;\n",
              "      fill: #D2E3FC;\n",
              "    }\n",
              "\n",
              "    [theme=dark] .colab-df-convert:hover {\n",
              "      background-color: #434B5C;\n",
              "      box-shadow: 0px 1px 3px 1px rgba(0, 0, 0, 0.15);\n",
              "      filter: drop-shadow(0px 1px 2px rgba(0, 0, 0, 0.3));\n",
              "      fill: #FFFFFF;\n",
              "    }\n",
              "  </style>\n",
              "\n",
              "      <script>\n",
              "        const buttonEl =\n",
              "          document.querySelector('#df-ab6ae967-4748-4195-914e-60234aacdc6d button.colab-df-convert');\n",
              "        buttonEl.style.display =\n",
              "          google.colab.kernel.accessAllowed ? 'block' : 'none';\n",
              "\n",
              "        async function convertToInteractive(key) {\n",
              "          const element = document.querySelector('#df-ab6ae967-4748-4195-914e-60234aacdc6d');\n",
              "          const dataTable =\n",
              "            await google.colab.kernel.invokeFunction('convertToInteractive',\n",
              "                                                     [key], {});\n",
              "          if (!dataTable) return;\n",
              "\n",
              "          const docLinkHtml = 'Like what you see? Visit the ' +\n",
              "            '<a target=\"_blank\" href=https://colab.research.google.com/notebooks/data_table.ipynb>data table notebook</a>'\n",
              "            + ' to learn more about interactive tables.';\n",
              "          element.innerHTML = '';\n",
              "          dataTable['output_type'] = 'display_data';\n",
              "          await google.colab.output.renderOutput(dataTable, element);\n",
              "          const docLink = document.createElement('div');\n",
              "          docLink.innerHTML = docLinkHtml;\n",
              "          element.appendChild(docLink);\n",
              "        }\n",
              "      </script>\n",
              "    </div>\n",
              "  </div>\n",
              "  "
            ],
            "text/plain": [
              "      qid  Q0     docid  rank    score             runstring\n",
              "0  310290  Q0   D579750     1 -5.11498  IndriQueryLikelihood\n",
              "1  310290  Q0   D579754     2 -5.57703  IndriQueryLikelihood\n",
              "2  310290  Q0  D2380815     3 -5.84852  IndriQueryLikelihood\n",
              "3  310290  Q0   D822566     4 -5.95002  IndriQueryLikelihood\n",
              "4  310290  Q0  D2249695     5 -6.08326  IndriQueryLikelihood"
            ]
          },
          "metadata": {},
          "execution_count": 9
        }
      ],
      "source": [
        "# Reducing train_top100 for training\n",
        "training_ranked100=train_top100[train_top100['qid'].isin(training_queries['qid'].unique())].reset_index(drop=True)\n",
        "print('Shape of training_ranked100: ',training_ranked100.shape)\n",
        "training_ranked100.head()"
      ]
    },
    {
      "cell_type": "markdown",
      "metadata": {
        "id": "fvf5D5a0lVzY"
      },
      "source": [
        "#### Load the testing data containing the top 100 documents for each query"
      ]
    },
    {
      "cell_type": "code",
      "execution_count": 10,
      "metadata": {
        "id": "Uz0VEQ-0lVzZ"
      },
      "outputs": [],
      "source": [
        "test_top100 = pd.read_csv(path + 'testing_ranked100.csv')"
      ]
    },
    {
      "cell_type": "code",
      "execution_count": 11,
      "metadata": {
        "id": "Rg7hyNxplVzZ",
        "outputId": "ec478a38-2715-4779-cb21-63f2d523e295",
        "colab": {
          "base_uri": "https://localhost:8080/",
          "height": 223
        }
      },
      "outputs": [
        {
          "output_type": "stream",
          "name": "stdout",
          "text": [
            "Shape of testing_ranked100 :  (100000, 6)\n"
          ]
        },
        {
          "output_type": "execute_result",
          "data": {
            "text/html": [
              "\n",
              "  <div id=\"df-81735b11-b7f6-4405-b73d-fbf8ab771e98\">\n",
              "    <div class=\"colab-df-container\">\n",
              "      <div>\n",
              "<style scoped>\n",
              "    .dataframe tbody tr th:only-of-type {\n",
              "        vertical-align: middle;\n",
              "    }\n",
              "\n",
              "    .dataframe tbody tr th {\n",
              "        vertical-align: top;\n",
              "    }\n",
              "\n",
              "    .dataframe thead th {\n",
              "        text-align: right;\n",
              "    }\n",
              "</style>\n",
              "<table border=\"1\" class=\"dataframe\">\n",
              "  <thead>\n",
              "    <tr style=\"text-align: right;\">\n",
              "      <th></th>\n",
              "      <th>qid</th>\n",
              "      <th>Q0</th>\n",
              "      <th>docid</th>\n",
              "      <th>rank</th>\n",
              "      <th>score</th>\n",
              "      <th>runstring</th>\n",
              "    </tr>\n",
              "  </thead>\n",
              "  <tbody>\n",
              "    <tr>\n",
              "      <th>0</th>\n",
              "      <td>1164761</td>\n",
              "      <td>Q0</td>\n",
              "      <td>D3261512</td>\n",
              "      <td>1</td>\n",
              "      <td>-4.92320</td>\n",
              "      <td>IndriQueryLikelihood</td>\n",
              "    </tr>\n",
              "    <tr>\n",
              "      <th>1</th>\n",
              "      <td>1164761</td>\n",
              "      <td>Q0</td>\n",
              "      <td>D1529569</td>\n",
              "      <td>2</td>\n",
              "      <td>-5.01292</td>\n",
              "      <td>IndriQueryLikelihood</td>\n",
              "    </tr>\n",
              "    <tr>\n",
              "      <th>2</th>\n",
              "      <td>1164761</td>\n",
              "      <td>Q0</td>\n",
              "      <td>D3444265</td>\n",
              "      <td>3</td>\n",
              "      <td>-5.03616</td>\n",
              "      <td>IndriQueryLikelihood</td>\n",
              "    </tr>\n",
              "    <tr>\n",
              "      <th>3</th>\n",
              "      <td>1164761</td>\n",
              "      <td>Q0</td>\n",
              "      <td>D1313045</td>\n",
              "      <td>4</td>\n",
              "      <td>-5.09482</td>\n",
              "      <td>IndriQueryLikelihood</td>\n",
              "    </tr>\n",
              "    <tr>\n",
              "      <th>4</th>\n",
              "      <td>1164761</td>\n",
              "      <td>Q0</td>\n",
              "      <td>D1058999</td>\n",
              "      <td>5</td>\n",
              "      <td>-5.18936</td>\n",
              "      <td>IndriQueryLikelihood</td>\n",
              "    </tr>\n",
              "  </tbody>\n",
              "</table>\n",
              "</div>\n",
              "      <button class=\"colab-df-convert\" onclick=\"convertToInteractive('df-81735b11-b7f6-4405-b73d-fbf8ab771e98')\"\n",
              "              title=\"Convert this dataframe to an interactive table.\"\n",
              "              style=\"display:none;\">\n",
              "        \n",
              "  <svg xmlns=\"http://www.w3.org/2000/svg\" height=\"24px\"viewBox=\"0 0 24 24\"\n",
              "       width=\"24px\">\n",
              "    <path d=\"M0 0h24v24H0V0z\" fill=\"none\"/>\n",
              "    <path d=\"M18.56 5.44l.94 2.06.94-2.06 2.06-.94-2.06-.94-.94-2.06-.94 2.06-2.06.94zm-11 1L8.5 8.5l.94-2.06 2.06-.94-2.06-.94L8.5 2.5l-.94 2.06-2.06.94zm10 10l.94 2.06.94-2.06 2.06-.94-2.06-.94-.94-2.06-.94 2.06-2.06.94z\"/><path d=\"M17.41 7.96l-1.37-1.37c-.4-.4-.92-.59-1.43-.59-.52 0-1.04.2-1.43.59L10.3 9.45l-7.72 7.72c-.78.78-.78 2.05 0 2.83L4 21.41c.39.39.9.59 1.41.59.51 0 1.02-.2 1.41-.59l7.78-7.78 2.81-2.81c.8-.78.8-2.07 0-2.86zM5.41 20L4 18.59l7.72-7.72 1.47 1.35L5.41 20z\"/>\n",
              "  </svg>\n",
              "      </button>\n",
              "      \n",
              "  <style>\n",
              "    .colab-df-container {\n",
              "      display:flex;\n",
              "      flex-wrap:wrap;\n",
              "      gap: 12px;\n",
              "    }\n",
              "\n",
              "    .colab-df-convert {\n",
              "      background-color: #E8F0FE;\n",
              "      border: none;\n",
              "      border-radius: 50%;\n",
              "      cursor: pointer;\n",
              "      display: none;\n",
              "      fill: #1967D2;\n",
              "      height: 32px;\n",
              "      padding: 0 0 0 0;\n",
              "      width: 32px;\n",
              "    }\n",
              "\n",
              "    .colab-df-convert:hover {\n",
              "      background-color: #E2EBFA;\n",
              "      box-shadow: 0px 1px 2px rgba(60, 64, 67, 0.3), 0px 1px 3px 1px rgba(60, 64, 67, 0.15);\n",
              "      fill: #174EA6;\n",
              "    }\n",
              "\n",
              "    [theme=dark] .colab-df-convert {\n",
              "      background-color: #3B4455;\n",
              "      fill: #D2E3FC;\n",
              "    }\n",
              "\n",
              "    [theme=dark] .colab-df-convert:hover {\n",
              "      background-color: #434B5C;\n",
              "      box-shadow: 0px 1px 3px 1px rgba(0, 0, 0, 0.15);\n",
              "      filter: drop-shadow(0px 1px 2px rgba(0, 0, 0, 0.3));\n",
              "      fill: #FFFFFF;\n",
              "    }\n",
              "  </style>\n",
              "\n",
              "      <script>\n",
              "        const buttonEl =\n",
              "          document.querySelector('#df-81735b11-b7f6-4405-b73d-fbf8ab771e98 button.colab-df-convert');\n",
              "        buttonEl.style.display =\n",
              "          google.colab.kernel.accessAllowed ? 'block' : 'none';\n",
              "\n",
              "        async function convertToInteractive(key) {\n",
              "          const element = document.querySelector('#df-81735b11-b7f6-4405-b73d-fbf8ab771e98');\n",
              "          const dataTable =\n",
              "            await google.colab.kernel.invokeFunction('convertToInteractive',\n",
              "                                                     [key], {});\n",
              "          if (!dataTable) return;\n",
              "\n",
              "          const docLinkHtml = 'Like what you see? Visit the ' +\n",
              "            '<a target=\"_blank\" href=https://colab.research.google.com/notebooks/data_table.ipynb>data table notebook</a>'\n",
              "            + ' to learn more about interactive tables.';\n",
              "          element.innerHTML = '';\n",
              "          dataTable['output_type'] = 'display_data';\n",
              "          await google.colab.output.renderOutput(dataTable, element);\n",
              "          const docLink = document.createElement('div');\n",
              "          docLink.innerHTML = docLinkHtml;\n",
              "          element.appendChild(docLink);\n",
              "        }\n",
              "      </script>\n",
              "    </div>\n",
              "  </div>\n",
              "  "
            ],
            "text/plain": [
              "       qid  Q0     docid  rank    score             runstring\n",
              "0  1164761  Q0  D3261512     1 -4.92320  IndriQueryLikelihood\n",
              "1  1164761  Q0  D1529569     2 -5.01292  IndriQueryLikelihood\n",
              "2  1164761  Q0  D3444265     3 -5.03616  IndriQueryLikelihood\n",
              "3  1164761  Q0  D1313045     4 -5.09482  IndriQueryLikelihood\n",
              "4  1164761  Q0  D1058999     5 -5.18936  IndriQueryLikelihood"
            ]
          },
          "metadata": {},
          "execution_count": 11
        }
      ],
      "source": [
        "# Reducing train_top100 for testing\n",
        "testing_ranked100=test_top100[test_top100['qid'].isin(testing_queries['qid'].unique())].reset_index(drop=True)\n",
        "print('Shape of testing_ranked100 : ',testing_ranked100.shape)\n",
        "testing_ranked100.head()"
      ]
    },
    {
      "cell_type": "markdown",
      "metadata": {
        "id": "lySWxsFelVzZ"
      },
      "source": [
        "#### Labelling Top 10 documents as 1 and last 10 as 0"
      ]
    },
    {
      "cell_type": "markdown",
      "metadata": {
        "id": "Ha75X-5ClVza"
      },
      "source": [
        "we will label the documents at rank 1 to 10 as relevant(1) and from 91 to 100 as non-relevant(0). Doing this will benefit us in two ways. First, it will reduce the dataset, and second, it will act as a ground truth on which we’ll evaluate our method later."
      ]
    },
    {
      "cell_type": "code",
      "execution_count": 12,
      "metadata": {
        "id": "oXBDxnDwlVza"
      },
      "outputs": [],
      "source": [
        "rel=list(range(1,11))\n",
        "nonrel=list(range(91,101))\n",
        "training_ranked100['rel']=training_ranked100['rank'].apply(lambda x: 1 if x in rel else ( 0 if x in nonrel else np.nan))\n",
        "testing_ranked100['rel']=testing_ranked100['rank'].apply(lambda x: 1 if x in rel else ( 0 if x in nonrel else np.nan))"
      ]
    },
    {
      "cell_type": "code",
      "execution_count": 13,
      "metadata": {
        "id": "M2p9j9-blVza",
        "outputId": "9b55ec12-1d76-4d5d-a5eb-8382e8707f15",
        "colab": {
          "base_uri": "https://localhost:8080/",
          "height": 223
        }
      },
      "outputs": [
        {
          "output_type": "stream",
          "name": "stdout",
          "text": [
            "Shape=> (20000, 7)\n"
          ]
        },
        {
          "output_type": "execute_result",
          "data": {
            "text/html": [
              "\n",
              "  <div id=\"df-e83c74ac-a048-408f-b1eb-8bffecdf96c3\">\n",
              "    <div class=\"colab-df-container\">\n",
              "      <div>\n",
              "<style scoped>\n",
              "    .dataframe tbody tr th:only-of-type {\n",
              "        vertical-align: middle;\n",
              "    }\n",
              "\n",
              "    .dataframe tbody tr th {\n",
              "        vertical-align: top;\n",
              "    }\n",
              "\n",
              "    .dataframe thead th {\n",
              "        text-align: right;\n",
              "    }\n",
              "</style>\n",
              "<table border=\"1\" class=\"dataframe\">\n",
              "  <thead>\n",
              "    <tr style=\"text-align: right;\">\n",
              "      <th></th>\n",
              "      <th>qid</th>\n",
              "      <th>Q0</th>\n",
              "      <th>docid</th>\n",
              "      <th>rank</th>\n",
              "      <th>score</th>\n",
              "      <th>runstring</th>\n",
              "      <th>rel</th>\n",
              "    </tr>\n",
              "  </thead>\n",
              "  <tbody>\n",
              "    <tr>\n",
              "      <th>0</th>\n",
              "      <td>310290</td>\n",
              "      <td>Q0</td>\n",
              "      <td>D579750</td>\n",
              "      <td>1</td>\n",
              "      <td>-5.11498</td>\n",
              "      <td>IndriQueryLikelihood</td>\n",
              "      <td>1</td>\n",
              "    </tr>\n",
              "    <tr>\n",
              "      <th>1</th>\n",
              "      <td>310290</td>\n",
              "      <td>Q0</td>\n",
              "      <td>D579754</td>\n",
              "      <td>2</td>\n",
              "      <td>-5.57703</td>\n",
              "      <td>IndriQueryLikelihood</td>\n",
              "      <td>1</td>\n",
              "    </tr>\n",
              "    <tr>\n",
              "      <th>2</th>\n",
              "      <td>310290</td>\n",
              "      <td>Q0</td>\n",
              "      <td>D2380815</td>\n",
              "      <td>3</td>\n",
              "      <td>-5.84852</td>\n",
              "      <td>IndriQueryLikelihood</td>\n",
              "      <td>1</td>\n",
              "    </tr>\n",
              "    <tr>\n",
              "      <th>3</th>\n",
              "      <td>310290</td>\n",
              "      <td>Q0</td>\n",
              "      <td>D822566</td>\n",
              "      <td>4</td>\n",
              "      <td>-5.95002</td>\n",
              "      <td>IndriQueryLikelihood</td>\n",
              "      <td>1</td>\n",
              "    </tr>\n",
              "    <tr>\n",
              "      <th>4</th>\n",
              "      <td>310290</td>\n",
              "      <td>Q0</td>\n",
              "      <td>D2249695</td>\n",
              "      <td>5</td>\n",
              "      <td>-6.08326</td>\n",
              "      <td>IndriQueryLikelihood</td>\n",
              "      <td>1</td>\n",
              "    </tr>\n",
              "  </tbody>\n",
              "</table>\n",
              "</div>\n",
              "      <button class=\"colab-df-convert\" onclick=\"convertToInteractive('df-e83c74ac-a048-408f-b1eb-8bffecdf96c3')\"\n",
              "              title=\"Convert this dataframe to an interactive table.\"\n",
              "              style=\"display:none;\">\n",
              "        \n",
              "  <svg xmlns=\"http://www.w3.org/2000/svg\" height=\"24px\"viewBox=\"0 0 24 24\"\n",
              "       width=\"24px\">\n",
              "    <path d=\"M0 0h24v24H0V0z\" fill=\"none\"/>\n",
              "    <path d=\"M18.56 5.44l.94 2.06.94-2.06 2.06-.94-2.06-.94-.94-2.06-.94 2.06-2.06.94zm-11 1L8.5 8.5l.94-2.06 2.06-.94-2.06-.94L8.5 2.5l-.94 2.06-2.06.94zm10 10l.94 2.06.94-2.06 2.06-.94-2.06-.94-.94-2.06-.94 2.06-2.06.94z\"/><path d=\"M17.41 7.96l-1.37-1.37c-.4-.4-.92-.59-1.43-.59-.52 0-1.04.2-1.43.59L10.3 9.45l-7.72 7.72c-.78.78-.78 2.05 0 2.83L4 21.41c.39.39.9.59 1.41.59.51 0 1.02-.2 1.41-.59l7.78-7.78 2.81-2.81c.8-.78.8-2.07 0-2.86zM5.41 20L4 18.59l7.72-7.72 1.47 1.35L5.41 20z\"/>\n",
              "  </svg>\n",
              "      </button>\n",
              "      \n",
              "  <style>\n",
              "    .colab-df-container {\n",
              "      display:flex;\n",
              "      flex-wrap:wrap;\n",
              "      gap: 12px;\n",
              "    }\n",
              "\n",
              "    .colab-df-convert {\n",
              "      background-color: #E8F0FE;\n",
              "      border: none;\n",
              "      border-radius: 50%;\n",
              "      cursor: pointer;\n",
              "      display: none;\n",
              "      fill: #1967D2;\n",
              "      height: 32px;\n",
              "      padding: 0 0 0 0;\n",
              "      width: 32px;\n",
              "    }\n",
              "\n",
              "    .colab-df-convert:hover {\n",
              "      background-color: #E2EBFA;\n",
              "      box-shadow: 0px 1px 2px rgba(60, 64, 67, 0.3), 0px 1px 3px 1px rgba(60, 64, 67, 0.15);\n",
              "      fill: #174EA6;\n",
              "    }\n",
              "\n",
              "    [theme=dark] .colab-df-convert {\n",
              "      background-color: #3B4455;\n",
              "      fill: #D2E3FC;\n",
              "    }\n",
              "\n",
              "    [theme=dark] .colab-df-convert:hover {\n",
              "      background-color: #434B5C;\n",
              "      box-shadow: 0px 1px 3px 1px rgba(0, 0, 0, 0.15);\n",
              "      filter: drop-shadow(0px 1px 2px rgba(0, 0, 0, 0.3));\n",
              "      fill: #FFFFFF;\n",
              "    }\n",
              "  </style>\n",
              "\n",
              "      <script>\n",
              "        const buttonEl =\n",
              "          document.querySelector('#df-e83c74ac-a048-408f-b1eb-8bffecdf96c3 button.colab-df-convert');\n",
              "        buttonEl.style.display =\n",
              "          google.colab.kernel.accessAllowed ? 'block' : 'none';\n",
              "\n",
              "        async function convertToInteractive(key) {\n",
              "          const element = document.querySelector('#df-e83c74ac-a048-408f-b1eb-8bffecdf96c3');\n",
              "          const dataTable =\n",
              "            await google.colab.kernel.invokeFunction('convertToInteractive',\n",
              "                                                     [key], {});\n",
              "          if (!dataTable) return;\n",
              "\n",
              "          const docLinkHtml = 'Like what you see? Visit the ' +\n",
              "            '<a target=\"_blank\" href=https://colab.research.google.com/notebooks/data_table.ipynb>data table notebook</a>'\n",
              "            + ' to learn more about interactive tables.';\n",
              "          element.innerHTML = '';\n",
              "          dataTable['output_type'] = 'display_data';\n",
              "          await google.colab.output.renderOutput(dataTable, element);\n",
              "          const docLink = document.createElement('div');\n",
              "          docLink.innerHTML = docLinkHtml;\n",
              "          element.appendChild(docLink);\n",
              "        }\n",
              "      </script>\n",
              "    </div>\n",
              "  </div>\n",
              "  "
            ],
            "text/plain": [
              "      qid  Q0     docid  rank    score             runstring  rel\n",
              "0  310290  Q0   D579750     1 -5.11498  IndriQueryLikelihood    1\n",
              "1  310290  Q0   D579754     2 -5.57703  IndriQueryLikelihood    1\n",
              "2  310290  Q0  D2380815     3 -5.84852  IndriQueryLikelihood    1\n",
              "3  310290  Q0   D822566     4 -5.95002  IndriQueryLikelihood    1\n",
              "4  310290  Q0  D2249695     5 -6.08326  IndriQueryLikelihood    1"
            ]
          },
          "metadata": {},
          "execution_count": 13
        }
      ],
      "source": [
        "# Result set for Training\n",
        "training_result=training_ranked100.dropna()\n",
        "training_result['rel']=training_result['rel'].astype(int)\n",
        "print('Shape=>',training_result.shape)\n",
        "training_result.head()"
      ]
    },
    {
      "cell_type": "code",
      "execution_count": 14,
      "metadata": {
        "id": "gV7bSbBWlVzb",
        "outputId": "77144536-4ddc-4e08-929d-0719fd9317bf",
        "colab": {
          "base_uri": "https://localhost:8080/",
          "height": 223
        }
      },
      "outputs": [
        {
          "output_type": "stream",
          "name": "stdout",
          "text": [
            "Shape=> (20000, 7)\n"
          ]
        },
        {
          "output_type": "execute_result",
          "data": {
            "text/html": [
              "\n",
              "  <div id=\"df-6c597f7c-66dd-415a-abb4-d700b538ab18\">\n",
              "    <div class=\"colab-df-container\">\n",
              "      <div>\n",
              "<style scoped>\n",
              "    .dataframe tbody tr th:only-of-type {\n",
              "        vertical-align: middle;\n",
              "    }\n",
              "\n",
              "    .dataframe tbody tr th {\n",
              "        vertical-align: top;\n",
              "    }\n",
              "\n",
              "    .dataframe thead th {\n",
              "        text-align: right;\n",
              "    }\n",
              "</style>\n",
              "<table border=\"1\" class=\"dataframe\">\n",
              "  <thead>\n",
              "    <tr style=\"text-align: right;\">\n",
              "      <th></th>\n",
              "      <th>qid</th>\n",
              "      <th>Q0</th>\n",
              "      <th>docid</th>\n",
              "      <th>rank</th>\n",
              "      <th>score</th>\n",
              "      <th>runstring</th>\n",
              "      <th>rel</th>\n",
              "    </tr>\n",
              "  </thead>\n",
              "  <tbody>\n",
              "    <tr>\n",
              "      <th>0</th>\n",
              "      <td>1164761</td>\n",
              "      <td>Q0</td>\n",
              "      <td>D3261512</td>\n",
              "      <td>1</td>\n",
              "      <td>-4.92320</td>\n",
              "      <td>IndriQueryLikelihood</td>\n",
              "      <td>1</td>\n",
              "    </tr>\n",
              "    <tr>\n",
              "      <th>1</th>\n",
              "      <td>1164761</td>\n",
              "      <td>Q0</td>\n",
              "      <td>D1529569</td>\n",
              "      <td>2</td>\n",
              "      <td>-5.01292</td>\n",
              "      <td>IndriQueryLikelihood</td>\n",
              "      <td>1</td>\n",
              "    </tr>\n",
              "    <tr>\n",
              "      <th>2</th>\n",
              "      <td>1164761</td>\n",
              "      <td>Q0</td>\n",
              "      <td>D3444265</td>\n",
              "      <td>3</td>\n",
              "      <td>-5.03616</td>\n",
              "      <td>IndriQueryLikelihood</td>\n",
              "      <td>1</td>\n",
              "    </tr>\n",
              "    <tr>\n",
              "      <th>3</th>\n",
              "      <td>1164761</td>\n",
              "      <td>Q0</td>\n",
              "      <td>D1313045</td>\n",
              "      <td>4</td>\n",
              "      <td>-5.09482</td>\n",
              "      <td>IndriQueryLikelihood</td>\n",
              "      <td>1</td>\n",
              "    </tr>\n",
              "    <tr>\n",
              "      <th>4</th>\n",
              "      <td>1164761</td>\n",
              "      <td>Q0</td>\n",
              "      <td>D1058999</td>\n",
              "      <td>5</td>\n",
              "      <td>-5.18936</td>\n",
              "      <td>IndriQueryLikelihood</td>\n",
              "      <td>1</td>\n",
              "    </tr>\n",
              "  </tbody>\n",
              "</table>\n",
              "</div>\n",
              "      <button class=\"colab-df-convert\" onclick=\"convertToInteractive('df-6c597f7c-66dd-415a-abb4-d700b538ab18')\"\n",
              "              title=\"Convert this dataframe to an interactive table.\"\n",
              "              style=\"display:none;\">\n",
              "        \n",
              "  <svg xmlns=\"http://www.w3.org/2000/svg\" height=\"24px\"viewBox=\"0 0 24 24\"\n",
              "       width=\"24px\">\n",
              "    <path d=\"M0 0h24v24H0V0z\" fill=\"none\"/>\n",
              "    <path d=\"M18.56 5.44l.94 2.06.94-2.06 2.06-.94-2.06-.94-.94-2.06-.94 2.06-2.06.94zm-11 1L8.5 8.5l.94-2.06 2.06-.94-2.06-.94L8.5 2.5l-.94 2.06-2.06.94zm10 10l.94 2.06.94-2.06 2.06-.94-2.06-.94-.94-2.06-.94 2.06-2.06.94z\"/><path d=\"M17.41 7.96l-1.37-1.37c-.4-.4-.92-.59-1.43-.59-.52 0-1.04.2-1.43.59L10.3 9.45l-7.72 7.72c-.78.78-.78 2.05 0 2.83L4 21.41c.39.39.9.59 1.41.59.51 0 1.02-.2 1.41-.59l7.78-7.78 2.81-2.81c.8-.78.8-2.07 0-2.86zM5.41 20L4 18.59l7.72-7.72 1.47 1.35L5.41 20z\"/>\n",
              "  </svg>\n",
              "      </button>\n",
              "      \n",
              "  <style>\n",
              "    .colab-df-container {\n",
              "      display:flex;\n",
              "      flex-wrap:wrap;\n",
              "      gap: 12px;\n",
              "    }\n",
              "\n",
              "    .colab-df-convert {\n",
              "      background-color: #E8F0FE;\n",
              "      border: none;\n",
              "      border-radius: 50%;\n",
              "      cursor: pointer;\n",
              "      display: none;\n",
              "      fill: #1967D2;\n",
              "      height: 32px;\n",
              "      padding: 0 0 0 0;\n",
              "      width: 32px;\n",
              "    }\n",
              "\n",
              "    .colab-df-convert:hover {\n",
              "      background-color: #E2EBFA;\n",
              "      box-shadow: 0px 1px 2px rgba(60, 64, 67, 0.3), 0px 1px 3px 1px rgba(60, 64, 67, 0.15);\n",
              "      fill: #174EA6;\n",
              "    }\n",
              "\n",
              "    [theme=dark] .colab-df-convert {\n",
              "      background-color: #3B4455;\n",
              "      fill: #D2E3FC;\n",
              "    }\n",
              "\n",
              "    [theme=dark] .colab-df-convert:hover {\n",
              "      background-color: #434B5C;\n",
              "      box-shadow: 0px 1px 3px 1px rgba(0, 0, 0, 0.15);\n",
              "      filter: drop-shadow(0px 1px 2px rgba(0, 0, 0, 0.3));\n",
              "      fill: #FFFFFF;\n",
              "    }\n",
              "  </style>\n",
              "\n",
              "      <script>\n",
              "        const buttonEl =\n",
              "          document.querySelector('#df-6c597f7c-66dd-415a-abb4-d700b538ab18 button.colab-df-convert');\n",
              "        buttonEl.style.display =\n",
              "          google.colab.kernel.accessAllowed ? 'block' : 'none';\n",
              "\n",
              "        async function convertToInteractive(key) {\n",
              "          const element = document.querySelector('#df-6c597f7c-66dd-415a-abb4-d700b538ab18');\n",
              "          const dataTable =\n",
              "            await google.colab.kernel.invokeFunction('convertToInteractive',\n",
              "                                                     [key], {});\n",
              "          if (!dataTable) return;\n",
              "\n",
              "          const docLinkHtml = 'Like what you see? Visit the ' +\n",
              "            '<a target=\"_blank\" href=https://colab.research.google.com/notebooks/data_table.ipynb>data table notebook</a>'\n",
              "            + ' to learn more about interactive tables.';\n",
              "          element.innerHTML = '';\n",
              "          dataTable['output_type'] = 'display_data';\n",
              "          await google.colab.output.renderOutput(dataTable, element);\n",
              "          const docLink = document.createElement('div');\n",
              "          docLink.innerHTML = docLinkHtml;\n",
              "          element.appendChild(docLink);\n",
              "        }\n",
              "      </script>\n",
              "    </div>\n",
              "  </div>\n",
              "  "
            ],
            "text/plain": [
              "       qid  Q0     docid  rank    score             runstring  rel\n",
              "0  1164761  Q0  D3261512     1 -4.92320  IndriQueryLikelihood    1\n",
              "1  1164761  Q0  D1529569     2 -5.01292  IndriQueryLikelihood    1\n",
              "2  1164761  Q0  D3444265     3 -5.03616  IndriQueryLikelihood    1\n",
              "3  1164761  Q0  D1313045     4 -5.09482  IndriQueryLikelihood    1\n",
              "4  1164761  Q0  D1058999     5 -5.18936  IndriQueryLikelihood    1"
            ]
          },
          "metadata": {},
          "execution_count": 14
        }
      ],
      "source": [
        "# Result set for Testing\n",
        "testing_result=testing_ranked100.dropna()\n",
        "testing_result['rel']=testing_result['rel'].astype(int)\n",
        "print('Shape=>',testing_result.shape)\n",
        "testing_result.head()"
      ]
    },
    {
      "cell_type": "markdown",
      "metadata": {
        "id": "ev6hpdTdlVzc"
      },
      "source": [
        "#### Training corpus"
      ]
    },
    {
      "cell_type": "code",
      "execution_count": 15,
      "metadata": {
        "id": "UKPUKyEzlVzc",
        "outputId": "145abe8f-8ed2-414c-daf9-41ecc7dd6c73",
        "colab": {
          "base_uri": "https://localhost:8080/",
          "height": 223
        }
      },
      "outputs": [
        {
          "output_type": "stream",
          "name": "stdout",
          "text": [
            "Shape=> (19505, 3)\n"
          ]
        },
        {
          "output_type": "execute_result",
          "data": {
            "text/html": [
              "\n",
              "  <div id=\"df-7492ea4d-9ad4-4922-b70f-7a4146ca5fbc\">\n",
              "    <div class=\"colab-df-container\">\n",
              "      <div>\n",
              "<style scoped>\n",
              "    .dataframe tbody tr th:only-of-type {\n",
              "        vertical-align: middle;\n",
              "    }\n",
              "\n",
              "    .dataframe tbody tr th {\n",
              "        vertical-align: top;\n",
              "    }\n",
              "\n",
              "    .dataframe thead th {\n",
              "        text-align: right;\n",
              "    }\n",
              "</style>\n",
              "<table border=\"1\" class=\"dataframe\">\n",
              "  <thead>\n",
              "    <tr style=\"text-align: right;\">\n",
              "      <th></th>\n",
              "      <th>docid</th>\n",
              "      <th>title</th>\n",
              "      <th>body</th>\n",
              "    </tr>\n",
              "  </thead>\n",
              "  <tbody>\n",
              "    <tr>\n",
              "      <th>0</th>\n",
              "      <td>D297612</td>\n",
              "      <td>Fair Oaks, CA County Of Sacramento</td>\n",
              "      <td>Home Fair Oaks, CA County Of Sacramento Fair O...</td>\n",
              "    </tr>\n",
              "    <tr>\n",
              "      <th>1</th>\n",
              "      <td>D1036761</td>\n",
              "      <td>What airport is the closest to downtown London?</td>\n",
              "      <td>Answers.com ® Wiki Answers ® Categories Travel...</td>\n",
              "    </tr>\n",
              "    <tr>\n",
              "      <th>2</th>\n",
              "      <td>D2025493</td>\n",
              "      <td>York County, South Carolina Genealogy</td>\n",
              "      <td>navigation search United States South Carolina...</td>\n",
              "    </tr>\n",
              "    <tr>\n",
              "      <th>3</th>\n",
              "      <td>D2214523</td>\n",
              "      <td>The Natural Habitat of Wolves</td>\n",
              "      <td>Wolves are members of the canine family, but t...</td>\n",
              "    </tr>\n",
              "    <tr>\n",
              "      <th>4</th>\n",
              "      <td>D1881859</td>\n",
              "      <td>Franking Privilege Law and Legal Definition</td>\n",
              "      <td>Franking Privilege Law and Legal Definition Fr...</td>\n",
              "    </tr>\n",
              "  </tbody>\n",
              "</table>\n",
              "</div>\n",
              "      <button class=\"colab-df-convert\" onclick=\"convertToInteractive('df-7492ea4d-9ad4-4922-b70f-7a4146ca5fbc')\"\n",
              "              title=\"Convert this dataframe to an interactive table.\"\n",
              "              style=\"display:none;\">\n",
              "        \n",
              "  <svg xmlns=\"http://www.w3.org/2000/svg\" height=\"24px\"viewBox=\"0 0 24 24\"\n",
              "       width=\"24px\">\n",
              "    <path d=\"M0 0h24v24H0V0z\" fill=\"none\"/>\n",
              "    <path d=\"M18.56 5.44l.94 2.06.94-2.06 2.06-.94-2.06-.94-.94-2.06-.94 2.06-2.06.94zm-11 1L8.5 8.5l.94-2.06 2.06-.94-2.06-.94L8.5 2.5l-.94 2.06-2.06.94zm10 10l.94 2.06.94-2.06 2.06-.94-2.06-.94-.94-2.06-.94 2.06-2.06.94z\"/><path d=\"M17.41 7.96l-1.37-1.37c-.4-.4-.92-.59-1.43-.59-.52 0-1.04.2-1.43.59L10.3 9.45l-7.72 7.72c-.78.78-.78 2.05 0 2.83L4 21.41c.39.39.9.59 1.41.59.51 0 1.02-.2 1.41-.59l7.78-7.78 2.81-2.81c.8-.78.8-2.07 0-2.86zM5.41 20L4 18.59l7.72-7.72 1.47 1.35L5.41 20z\"/>\n",
              "  </svg>\n",
              "      </button>\n",
              "      \n",
              "  <style>\n",
              "    .colab-df-container {\n",
              "      display:flex;\n",
              "      flex-wrap:wrap;\n",
              "      gap: 12px;\n",
              "    }\n",
              "\n",
              "    .colab-df-convert {\n",
              "      background-color: #E8F0FE;\n",
              "      border: none;\n",
              "      border-radius: 50%;\n",
              "      cursor: pointer;\n",
              "      display: none;\n",
              "      fill: #1967D2;\n",
              "      height: 32px;\n",
              "      padding: 0 0 0 0;\n",
              "      width: 32px;\n",
              "    }\n",
              "\n",
              "    .colab-df-convert:hover {\n",
              "      background-color: #E2EBFA;\n",
              "      box-shadow: 0px 1px 2px rgba(60, 64, 67, 0.3), 0px 1px 3px 1px rgba(60, 64, 67, 0.15);\n",
              "      fill: #174EA6;\n",
              "    }\n",
              "\n",
              "    [theme=dark] .colab-df-convert {\n",
              "      background-color: #3B4455;\n",
              "      fill: #D2E3FC;\n",
              "    }\n",
              "\n",
              "    [theme=dark] .colab-df-convert:hover {\n",
              "      background-color: #434B5C;\n",
              "      box-shadow: 0px 1px 3px 1px rgba(0, 0, 0, 0.15);\n",
              "      filter: drop-shadow(0px 1px 2px rgba(0, 0, 0, 0.3));\n",
              "      fill: #FFFFFF;\n",
              "    }\n",
              "  </style>\n",
              "\n",
              "      <script>\n",
              "        const buttonEl =\n",
              "          document.querySelector('#df-7492ea4d-9ad4-4922-b70f-7a4146ca5fbc button.colab-df-convert');\n",
              "        buttonEl.style.display =\n",
              "          google.colab.kernel.accessAllowed ? 'block' : 'none';\n",
              "\n",
              "        async function convertToInteractive(key) {\n",
              "          const element = document.querySelector('#df-7492ea4d-9ad4-4922-b70f-7a4146ca5fbc');\n",
              "          const dataTable =\n",
              "            await google.colab.kernel.invokeFunction('convertToInteractive',\n",
              "                                                     [key], {});\n",
              "          if (!dataTable) return;\n",
              "\n",
              "          const docLinkHtml = 'Like what you see? Visit the ' +\n",
              "            '<a target=\"_blank\" href=https://colab.research.google.com/notebooks/data_table.ipynb>data table notebook</a>'\n",
              "            + ' to learn more about interactive tables.';\n",
              "          element.innerHTML = '';\n",
              "          dataTable['output_type'] = 'display_data';\n",
              "          await google.colab.output.renderOutput(dataTable, element);\n",
              "          const docLink = document.createElement('div');\n",
              "          docLink.innerHTML = docLinkHtml;\n",
              "          element.appendChild(docLink);\n",
              "        }\n",
              "      </script>\n",
              "    </div>\n",
              "  </div>\n",
              "  "
            ],
            "text/plain": [
              "      docid  ...                                               body\n",
              "0   D297612  ...  Home Fair Oaks, CA County Of Sacramento Fair O...\n",
              "1  D1036761  ...  Answers.com ® Wiki Answers ® Categories Travel...\n",
              "2  D2025493  ...  navigation search United States South Carolina...\n",
              "3  D2214523  ...  Wolves are members of the canine family, but t...\n",
              "4  D1881859  ...  Franking Privilege Law and Legal Definition Fr...\n",
              "\n",
              "[5 rows x 3 columns]"
            ]
          },
          "metadata": {},
          "execution_count": 15
        }
      ],
      "source": [
        "training_corpus = pd.read_csv(path + 'training_corpus.csv')\n",
        "print('Shape=>',training_corpus.shape)\n",
        "training_corpus.head()"
      ]
    },
    {
      "cell_type": "markdown",
      "metadata": {
        "id": "-zLg0d4VlVzd"
      },
      "source": [
        "#### Testing corpus"
      ]
    },
    {
      "cell_type": "code",
      "execution_count": 16,
      "metadata": {
        "id": "YUcK-KOAlVzd",
        "outputId": "fc353897-6f67-4292-f73e-1a95169880ee",
        "colab": {
          "base_uri": "https://localhost:8080/",
          "height": 223
        }
      },
      "outputs": [
        {
          "output_type": "stream",
          "name": "stdout",
          "text": [
            "Shape=> (19570, 3)\n"
          ]
        },
        {
          "output_type": "execute_result",
          "data": {
            "text/html": [
              "\n",
              "  <div id=\"df-68580321-8179-4cfc-831d-0e5592e4c033\">\n",
              "    <div class=\"colab-df-container\">\n",
              "      <div>\n",
              "<style scoped>\n",
              "    .dataframe tbody tr th:only-of-type {\n",
              "        vertical-align: middle;\n",
              "    }\n",
              "\n",
              "    .dataframe tbody tr th {\n",
              "        vertical-align: top;\n",
              "    }\n",
              "\n",
              "    .dataframe thead th {\n",
              "        text-align: right;\n",
              "    }\n",
              "</style>\n",
              "<table border=\"1\" class=\"dataframe\">\n",
              "  <thead>\n",
              "    <tr style=\"text-align: right;\">\n",
              "      <th></th>\n",
              "      <th>docid</th>\n",
              "      <th>title</th>\n",
              "      <th>body</th>\n",
              "    </tr>\n",
              "  </thead>\n",
              "  <tbody>\n",
              "    <tr>\n",
              "      <th>0</th>\n",
              "      <td>D1911483</td>\n",
              "      <td>My Doctor Online The Permanente Medical Group</td>\n",
              "      <td>Abnormal Vaginal Bleeding in Midlife and Beyon...</td>\n",
              "    </tr>\n",
              "    <tr>\n",
              "      <th>1</th>\n",
              "      <td>D2378859</td>\n",
              "      <td>How many decibels can a human hear in?</td>\n",
              "      <td>Answers.com ® Wiki Answers ® Categories Scienc...</td>\n",
              "    </tr>\n",
              "    <tr>\n",
              "      <th>2</th>\n",
              "      <td>D2981241</td>\n",
              "      <td>What do you call a group of lions?</td>\n",
              "      <td>Lions Vocabulary of the English Language Word ...</td>\n",
              "    </tr>\n",
              "    <tr>\n",
              "      <th>3</th>\n",
              "      <td>D2337005</td>\n",
              "      <td>Peripheral Vascular Surgery-Chapter 32</td>\n",
              "      <td>165 terms alexandriamartinez19Peripheral Vascu...</td>\n",
              "    </tr>\n",
              "    <tr>\n",
              "      <th>4</th>\n",
              "      <td>D2078142</td>\n",
              "      <td>What are all the literary devices? List them p...</td>\n",
              "      <td>Education &amp; Reference Homework Help What are a...</td>\n",
              "    </tr>\n",
              "  </tbody>\n",
              "</table>\n",
              "</div>\n",
              "      <button class=\"colab-df-convert\" onclick=\"convertToInteractive('df-68580321-8179-4cfc-831d-0e5592e4c033')\"\n",
              "              title=\"Convert this dataframe to an interactive table.\"\n",
              "              style=\"display:none;\">\n",
              "        \n",
              "  <svg xmlns=\"http://www.w3.org/2000/svg\" height=\"24px\"viewBox=\"0 0 24 24\"\n",
              "       width=\"24px\">\n",
              "    <path d=\"M0 0h24v24H0V0z\" fill=\"none\"/>\n",
              "    <path d=\"M18.56 5.44l.94 2.06.94-2.06 2.06-.94-2.06-.94-.94-2.06-.94 2.06-2.06.94zm-11 1L8.5 8.5l.94-2.06 2.06-.94-2.06-.94L8.5 2.5l-.94 2.06-2.06.94zm10 10l.94 2.06.94-2.06 2.06-.94-2.06-.94-.94-2.06-.94 2.06-2.06.94z\"/><path d=\"M17.41 7.96l-1.37-1.37c-.4-.4-.92-.59-1.43-.59-.52 0-1.04.2-1.43.59L10.3 9.45l-7.72 7.72c-.78.78-.78 2.05 0 2.83L4 21.41c.39.39.9.59 1.41.59.51 0 1.02-.2 1.41-.59l7.78-7.78 2.81-2.81c.8-.78.8-2.07 0-2.86zM5.41 20L4 18.59l7.72-7.72 1.47 1.35L5.41 20z\"/>\n",
              "  </svg>\n",
              "      </button>\n",
              "      \n",
              "  <style>\n",
              "    .colab-df-container {\n",
              "      display:flex;\n",
              "      flex-wrap:wrap;\n",
              "      gap: 12px;\n",
              "    }\n",
              "\n",
              "    .colab-df-convert {\n",
              "      background-color: #E8F0FE;\n",
              "      border: none;\n",
              "      border-radius: 50%;\n",
              "      cursor: pointer;\n",
              "      display: none;\n",
              "      fill: #1967D2;\n",
              "      height: 32px;\n",
              "      padding: 0 0 0 0;\n",
              "      width: 32px;\n",
              "    }\n",
              "\n",
              "    .colab-df-convert:hover {\n",
              "      background-color: #E2EBFA;\n",
              "      box-shadow: 0px 1px 2px rgba(60, 64, 67, 0.3), 0px 1px 3px 1px rgba(60, 64, 67, 0.15);\n",
              "      fill: #174EA6;\n",
              "    }\n",
              "\n",
              "    [theme=dark] .colab-df-convert {\n",
              "      background-color: #3B4455;\n",
              "      fill: #D2E3FC;\n",
              "    }\n",
              "\n",
              "    [theme=dark] .colab-df-convert:hover {\n",
              "      background-color: #434B5C;\n",
              "      box-shadow: 0px 1px 3px 1px rgba(0, 0, 0, 0.15);\n",
              "      filter: drop-shadow(0px 1px 2px rgba(0, 0, 0, 0.3));\n",
              "      fill: #FFFFFF;\n",
              "    }\n",
              "  </style>\n",
              "\n",
              "      <script>\n",
              "        const buttonEl =\n",
              "          document.querySelector('#df-68580321-8179-4cfc-831d-0e5592e4c033 button.colab-df-convert');\n",
              "        buttonEl.style.display =\n",
              "          google.colab.kernel.accessAllowed ? 'block' : 'none';\n",
              "\n",
              "        async function convertToInteractive(key) {\n",
              "          const element = document.querySelector('#df-68580321-8179-4cfc-831d-0e5592e4c033');\n",
              "          const dataTable =\n",
              "            await google.colab.kernel.invokeFunction('convertToInteractive',\n",
              "                                                     [key], {});\n",
              "          if (!dataTable) return;\n",
              "\n",
              "          const docLinkHtml = 'Like what you see? Visit the ' +\n",
              "            '<a target=\"_blank\" href=https://colab.research.google.com/notebooks/data_table.ipynb>data table notebook</a>'\n",
              "            + ' to learn more about interactive tables.';\n",
              "          element.innerHTML = '';\n",
              "          dataTable['output_type'] = 'display_data';\n",
              "          await google.colab.output.renderOutput(dataTable, element);\n",
              "          const docLink = document.createElement('div');\n",
              "          docLink.innerHTML = docLinkHtml;\n",
              "          element.appendChild(docLink);\n",
              "        }\n",
              "      </script>\n",
              "    </div>\n",
              "  </div>\n",
              "  "
            ],
            "text/plain": [
              "      docid  ...                                               body\n",
              "0  D1911483  ...  Abnormal Vaginal Bleeding in Midlife and Beyon...\n",
              "1  D2378859  ...  Answers.com ® Wiki Answers ® Categories Scienc...\n",
              "2  D2981241  ...  Lions Vocabulary of the English Language Word ...\n",
              "3  D2337005  ...  165 terms alexandriamartinez19Peripheral Vascu...\n",
              "4  D2078142  ...  Education & Reference Homework Help What are a...\n",
              "\n",
              "[5 rows x 3 columns]"
            ]
          },
          "metadata": {},
          "execution_count": 16
        }
      ],
      "source": [
        "testing_corpus = pd.read_csv(path + 'testing_corpus.csv')\n",
        "print('Shape=>',testing_corpus.shape)\n",
        "testing_corpus.head()"
      ]
    },
    {
      "cell_type": "markdown",
      "metadata": {
        "id": "6OksHbe6lVze"
      },
      "source": [
        "Now, we have our datasets ready for further processes."
      ]
    },
    {
      "cell_type": "markdown",
      "metadata": {
        "id": "kjqBRuZolVze"
      },
      "source": [
        "# Data Exploration"
      ]
    },
    {
      "cell_type": "markdown",
      "metadata": {
        "id": "Cqto6fyvlVze"
      },
      "source": [
        "We’ll take a sample from the corpus and look at the data we have."
      ]
    },
    {
      "cell_type": "code",
      "execution_count": 17,
      "metadata": {
        "id": "XFoewQgglVzf",
        "outputId": "e4434660-1f19-4887-daa4-13b1f746de94",
        "colab": {
          "base_uri": "https://localhost:8080/"
        }
      },
      "outputs": [
        {
          "output_type": "stream",
          "name": "stdout",
          "text": [
            "Title=> ['Victoza May Cause Pancreatic Cancer: Persons Taking Victoza Should Be Aware of These Potential Health Risks and Consult Their Physician by Texas Victoza Pancreatic Cancer Lawyer, Victoza Pancreatitis Lawyer, Victoza Cancer Lawyer, Diabetes Drug Cancer Lawyer, and Victoza Pancreas Cancer Lawyer Jason S. Coomer']\n",
            "Body:\n",
            " ['Victoza May Cause Pancreatic Cancer: Persons Taking Victoza Should Be Aware of These Potential Health Risks and Consult Their Physician by Texas Victoza Pancreatic Cancer Lawyer, Victoza Pancreatitis Lawyer, Victoza Cancer Lawyer, Diabetes Drug Cancer Lawyer, and Victoza Pancreas Cancer Lawyer Jason S. Coomer The consumer group, Public Citizen, has filed a petition with the Food and Drug Administration (FDA) requesting that the agency immediately remove the diabetes drug, Victoza, from the market because it puts patients at a higher risk of thyroid cancer, pancreatitis, serious allergic reactions and kidney failure that outweigh any documented clinical benefits. Public Citizen claims that the diabetes drug, Victoza, has a number of possible side effects including pancreatic cancer. This side effect is extremely dangerous, because once a person has pancreatic cancer and that cancer spreads, a patient stands just a 1.8% chance of surviving for longer than five years. If you have lost a loved one from Pancreatic Cancer or have suffered acute pancreatitis, hemorrhagic pancreatitis, accute necrotizing pancreatitis, or pancreas cancer; and have been using Victoza or another diabetes drug, please report the adverse action to the prescribing medical doctor as soon as possible. For more Victoza Pancreatic Cancer Lawsuit, Victoza Cancer Death Lawsuit, or Diabetes Drug Pancreas Cancer Lawsuit information, please feel free to contact Victoza Pancreatic Cancer Lawyer, Victoza Diabetes Drug Cancer Lawyer, and Victoza Pancreas Cancer Death Lawyer Jason Coomer a Texas lawyer, or use our online submission form. Fatal Diabetes Drug Lawsuits, Victoza Pancreatic Cancer Lawsuits, Fatal Pancreatic Cancer Lawsuits, Victoza Pancreatitis Lawsuits, Victoza Cancer Lawsuits, and Victoza Pancreas Cancer Lawsuits Drug manufacturers that were aware of their diabetes drug causing an increased risk of pancreatic cancer, pancreatitis, and pancreas cancer, but hid research linking this health risk can potentially be held liable by persons that have suffered pancreatitis and pancreatic cancer as well as the families of persons that have died from pancreatic cancer, pancreas cancer, thyroid cancer, or other cancers after using the drug. The loss of a spouse, child, parent, or loved one to pancreatic cancer, pancreas cancer, or thyroid cancer can be devastating. It is often worse to then find out that the loss of your loved one was unnecessary and could have been prevented if the defective diabetes drug manufacturer had properly disclosed the drug\\'s potential dangers. In these situations, where a loved one is lost from taking a defective diabetes drug and the drug company knew of the dangers of the drug, but marketed as safe to make a profit; families are needed to stand up and make sure that the drug company does not get away with this and will not repeat this action to other families. In fatal cancer diabetes drug lawsuits, diabetes drug attorneys will work with families to seek compensation for the loss of their loved one. Though no amount of money will ever replace or bring back their loved one. The family will often need compensation to replace the lost earnings of their loved one or to pay medical expenses caused by the care needed by their lost loved one. The fatal diabetes drug lawsuit will usually seek several elements of damages for the family of the deceased including their loss of love, companionship, comfort, assistance, protection, affection and care; the loss of financial support and lost benefits from the death; and loss of inheritance from an untimely death. These fatal cancer diabetes drug lawsuits will also often include claims for what the decedent would have recovered had the person survived the cancer caused by the drug. These claims are through the decedent\\'s estate and either go to their heirs or beneficiaries depending if the person had done any estate planning. These damages include expenses associated with the death including funeral costs, medical expenses prior to the death, and pain and suffering associated with the untimely death. Diabetes drug lawsuits for those lucky enough to survive pancreatic cancer or pancreas cancer will often include seeking compensation for people that have taken the drug and then suffered serious health problems including sudden inflammation of the pancreas, bleeding of the pancreas, and/or life threatening pancreatic cancer. These health problems not only can cause significant pain and suffering for the person, but can require extensive medical treatment creating huge medical expenses and preventing the person from continuing to work creating a devastating impact on the person and their family. These diabetes drug lawsuits seek compensation for these people including pain and suffering, medical expenses, physical impairment, and lost wages. The diabetes drug, Victoza, may cause an increased risk of pancreatitis and pancreatic cancer. People using Victoza should be aware of pancreatitis and other pancreatic health issues that may lead to pancreatic cancer. Other Diabetes Drugs including Januvia, Janumet, and Byetta may also cause an increased risk of pancreatitis which can to the development of pancreatic cancer. Pancreatic Cancer is an extremely deadly form of cancer. Most people diagnosed with Pancreatic Cancer or Cancer of the Pancreas do not survive beyond the five years and many are given much less time as Pancreatic Cancer is hard to detect. Early detection is the key to surviving pancreatic cancer. For more information on these other diabetes drugs, please go to the following webpages: Byetta Pancreatic Cancer Lawsuit, Byetta Pancreas Cancer Lawsuit, and Byetta Cancer Death Lawsuit Information and Januvia Pancreatic Cancer Lawsuit, Januvia Cancer Death Lawsuit, or Januvia Pancreas Cancer Lawsuit Information. FDA Information on Liraglutide (marketed as Victoza)Prior to the filing of Public Citizen\\'s petition to remove Victoza, the FDA had the below information regarding Liraglutide (marketed as Victoza) on their website: Questions and Answers - Safety Requirements for Victoza (liraglutide)Q1. What is FDA announcing today? A. FDA is approving Victoza (liraglutide), a once-daily injection to treat type 2 diabetes mellitus (T2DM) in adults. Victoza is intended to help lower blood sugar (glucose) levels, along with diet and exercise. Controlling elevated blood sugar levels is important in preventing complications of diabetes, such as kidney disease and blindness. People with T2DM have difficulty making and using insulin, a hormone that helps prevent glucose from building up in the blood. Victoza works by helping the pancreas release more insulin after eating a meal. Although there are many anti-diabetic medications already available for use, often people with T2DM will require different or additional anti-diabetic medications to control their blood sugar, given the chronic nature of this disease. Therefore, Victoza is another medication that can be used to help control blood sugar, but it is not recommended as first-line therapy for patients whose blood sugar is not controlled through diet and exercise. Q2. Should healthcare professionals be aware of any safety issues associated with Victoza? A. FDA approved Victoza because the Agency believes that the benefits of this drug to patients with T2DM outweigh potential risks associated with its use. There were, however, several safety concerns identified during the Victoza review that had to be evaluated in light of its benefits. These safety concerns included: Clinical trials that suggested Victoza may be associated with pancreatitis (see Q3). Other drugs that work through similar mechanisms as Victoza have also been associated with pancreatitis. Animal data that showed a rare type of thyroid cancer known as medullary thyroid cancer associated with liraglutide, although the relevance of this finding to humans remains unknown (see Q5). To ensure that the benefits of Victoza continue to outweigh any risks, FDA has required a Risk Evaluation and Mitigation Strategy (REMS) as part of the Victoza approval. This REMS includes a patient Medication Guide and a Communication Plan. FDA has also required additional studies to better understand the risks associated with this medicine. In addition, FDA has required a large cardiovascular safety trial, that is now required as part of the development of most diabetic medications (See Q7). Q3. What information did FDA review about pancreatitis associated with the use of Victoza? A. The Victoza trials were carefully reviewed for cases of pancreatitis, a side effect associated with other diabetic medications that work in a similar manner to this medicine. In five clinical trials including more than 3,900 people, there were seven cases of pancreatitis in patients using Victoza and one case in a patient using another diabetes medicine. This constituted a 4:1 imbalance of pancreatitis cases, when considering the number of patient exposures. Although there were too few cases to know if Victoza causes pancreatitis, healthcare professionals and patients should be aware of this potential risk, and know that some common side effects of Victoza may be similar to the symptoms of pancreatitis (see Q4). Q4. What steps does FDA recommend patients and healthcare professionals take to reduce the risk of developing pancreatitis while using Victoza? A. Patients taking Victoza should be aware of the symptoms of pancreatitis, such as severe abdominal pain that may also radiate into the back, possibly with nausea, and vomiting. If patients experience these symptoms, they should immediately talk to their healthcare professional. As part of the REMS, patients will be given a Medication Guide to provide them with information about pancreatitis, including: What conditions, in general, may place them at higher risk for pancreatitis; for example, prior history of pancreatitis, gallstones, excessive use of alcohol, or very high blood triglyceride levels. The symptoms of pancreatitis (described above) and what they need to do if they occur. If healthcare professionals suspect a patient has pancreatitis, Victoza should be stopped right away and the patient should undergo testing to confirm pancreatitis. If pancreatitis is confirmed, Victoza should not be restarted. Victoza has not been studied in enough patients who have had pancreatitis in the past to know if they are at higher risk for developing pancreatitis while using the medicine. For this reason, Victoza should always be used with caution in patients with a history of pancreatitis. As part of the REMS, the Communication Plan for healthcare professionals highlights how to appropriately select patients for treatment with Victoza. It also reminds healthcare professionals to promptly evaluate patients who develop symptoms suggestive of pancreatitis. Q5. What information did FDA review about medullary thyroid cancer and Victoza? A. Studies were done in mice and in rats to look for any evidence that liraglutide might cause cancer in animals. Results of the studies showed that liraglutide caused malignant tumors of the thyroid gland, especially at doses that were 8-times higher than what humans would receive. It is hard to predict whether this finding means that humans who take liraglutide might be at risk for developing medullary thyroid cancer. This specific type of thyroid cancer is very rare in humans (about 600 cases per year in the United States) so even if liraglutide increased the risk for a patient to develop it, cases still might not be detected during the clinical trials. As a result of the animal study results, the clinical development program for Victoza included blood tests for a biomarker for medullary thyroid cancer?a blood calcitonin test. Data from a two-year study did not show any difference in calcitonin levels between patients treated with Victoza compared to other diabetes medicines. With these data, FDA is of the opinion that this safety concern was adequately addressed during Victoza\\'s development. However, as part of FDA\\'s commitment to post-marketing safety evaluation, the Agency is requiring the manufacturer of Victoza to conduct a 5-year epidemiological study using a large healthcare claims database to compare the development of thyroid cancer among patients with T2DM who use Victoza to those who are not using this medicine. In addition, FDA is requiring the manufacturer to develop a medullary thyroid cancer registry to monitor how many cases of medullary thyroid cancer occur each year for at least 15 years to see whether there is any association of this specific type of thyroid cancer with Victoza therapy. Q6. What steps is FDA taking to inform patients and healthcare professionals about the potential risk of medullary thyroid cancer with the use of Victoza? A. Patients using Victoza will receive a Medication Guide with every prescription that explains the potential risk of medullary thyroid cancer, who should not take the medication, and what symptoms to be aware of that may require additional evaluation by a healthcare professional. A communication plan has been developed to ensure that healthcare professionals recognize the potential risk of medullary thyroid cancer in patients using Victoza. This communication plan will include: A Dear Healthcare Provider letter that will be sent to all healthcare professionals likely to prescribe Victoza. Representatives of Novo Nordisk (the maker of Victoza) will distribute Highlighted Information for Prescribers at their first meeting with prescribers. A link on the Victoza website that will take healthcare professionals and patients to all of these documents. FDA is also requiring the manufacturer of Victoza to conduct additional animal studies in mice to further evaluate the potential risk of medullary thyroid cancer in humans. Q7. Are there any other studies FDA is requiring for Victoza? A. In December 2008, FDA issued a Guidance for Industry that required manufacturers of new treatments for diabetes to carefully design and evaluate their clinical trials for cardiovascular safety. The Victoza application for approval was submitted before the December 2008 guidance was issued; therefore, the manufacturer had not designed the recommended cardiovascular safety trials. FDA, however, reviewed the available cardiovascular safety data, and determined there was no evidence of excess cardiovascular risk associated with Victoza. The April 2009 FDA Endocrinologic and Metabolic Drugs Advisory Committee met, discussed, and a majority of the members voted that the available data adequately addressed the cardiovascular safety concern to support approval. Still, FDA is requiring a post-approval study that specifically evaluates cardiovascular safety in a higher risk population as part of the Agency\\'s commitment to post-marketing safety evaluation. Pancreatic Carinoma, Pancreatic Cancer, and Cancer Pancreas Pancreatic cancer is the fourth leading cause of cancer death for both men and women and is one of the most deadly of all types of cancer. This year approximately 45,000 Americans will be diagnosed with pancreatic cancer and about 38,000 will die from it. Unfortunately, pancreatic cancer is difficult to diagnose, and the diagnosis is often made late in the course of the disease. Early detection of pancreatic cancer is essential and will greatly improve a person\\'s chances of surviving the disease. As such, people that have taken Byetta, especially those with symptoms of weight loss, dark urine and clay-colored stools, back pain, and jaundice, should seek advice from a qualified medical professional as to if they may have pancreatic cancer and what symptoms they should be aware of to detect any early onset of pancreatic cancer. Acute Pancreatitis, Hemorrhagic Pancreatitis, Necrotizing Pancreatitis Acute pancreatitis is a sudden inflammation of the pancreas that occurs over a short period of time. The pancreas is a digestive organ behind the stomach that secretes essential enzymes needed for the digestion of certain foods, including fats, carbohydrates and proteins. During an episode of acute hemorrhagic pancreatitis, several symptoms relating to digestion and abdomen may occur. In severe cases, the person may experience confusion, difficulty breathing, or respiratory failure. The person may also fall into a coma. The severity of acute pancreatitis may range from mild abdominal discomfort to a severe, life-threatening illness. However, the majority of people with acute pancreatitis (more than 80%) recover completely after receiving the appropriate treatment. In very severe cases, acute pancreatitis can result in bleeding into the gland, serious tissue damage, infection, and cyst formation. Severe pancreatitis can also create conditions which can harm other vital organs such as the heart, lungs, and kidneys. The warning signs of pancreatitis include: 1) Upper abdominal pain that radiates into the back. Patients may describe this as a \"boring sensation\" that may be aggravated by eating, especially foods high in fat. 2) Swollen and tender abdomen 3) Nausea and vomiting 4) Fever and 5) Increased heart rate. Acute hemorrhagic pancreatitis is the sudden inflammation of the pancreas. This leads to death of pancreatic tissue and the formation of lesions, causing extensive bleeding. Necrotizing pancreatitis is a serious health condition where a person\\'s pancreas is inflamed and bleeding. In Necrotizing Pancreatitis patients, there is inflammation and tissue death, with the pancreas destroying itself. Whereas in Hemorrhagic Pancreatitis patients, the pancreas is bleeding. Both are serious conditions and should be treated immediately. Victoza Pancreas Cancer Lawyers, Victoza Pancreatic Cancer Lawyers, Victoza Pancreatitis Lawyers, Victoza Cancer Death Lawyer, Victoza Thyroid Cancer Lawyers and Diabetes Drug Liraglutide [r DNA origin] Injection Pancreas Cancer Lawyers Texas Diabetes Pancreatic Cancer Attorney, Jason Coomer, commonly works with other lawyers throughout the nation including Chicago Victoza Pancreatitis Lawyers, Victoza Thyroid Cancer Lawyers, New York Victoza Cancer Attorneys, California Victoza Diabetes Drug Pancreatitis Attorneys, and Houston Victoza Cancer Lawyers. By sharing information and working together, his law firm and other firms throughout the nation are able to provide better representation for there clients. If you have lost a loved one from Pancreatic Cancer or have suffered acute pancreatitis, hemorrhagic pancreatitis, accute necrotizing pancreatitis, or pancreas cancer; and have been using Victoza or another diabetes drug, please report the adverse action to the prescribing medical doctor as soon as possible. For more Victoza Pancreatic Cancer Lawsuit, Victoza Cancer Death Lawsuit, or Diabetes Drug Pancreas Cancer Lawsuit information, please feel free to contact Victoza Pancreatic Cancer Lawyer, Victoza Diabetes Drug Cancer Lawyer, and Victoza Pancreas Cancer Death Lawyer Jason Coomer a Texas lawyer, or use our online submission form. Victoza Pancreatic Cancer Death Lawyer, Diabetes Drug Pancreatic Cancer Lawyer, Victoza Thyroid Cancer Lawyer, Victoza Pancreas Cancer Lawyer, Diabetes Drug Panreas Cancer Lawyer, and Victoza Pancreatitis Lawyer If you have lost a loved one from Pancreatic Cancer or have suffered acute pancreatitis, hemorrhagic pancreatitis, accute necrotizing pancreatitis, or pancreas cancer; and have been using Victoza or another diabetes drug, please report the adverse action to the prescribing medical doctor as soon as possible. For more Victoza Pancreatic Cancer Lawsuit, Victoza Cancer Death Lawsuit, or Diabetes Drug Pancreas Cancer Lawsuit information, please feel free to contact Victoza Pancreatic Cancer Lawyer, Victoza Diabetes Drug Cancer Lawyer, and Victoza Pancreas Cancer Death Lawyer Jason Coomer a Texas lawyer, or use our online submission form. ']\n"
          ]
        }
      ],
      "source": [
        "temp_doc=training_corpus.sample(1)\n",
        "print('Title=>',temp_doc.title.values)\n",
        "print('Body:\\n',temp_doc.body.values)"
      ]
    },
    {
      "cell_type": "markdown",
      "metadata": {
        "id": "CNLa-n_2lVzg"
      },
      "source": [
        "Let’s take a look at some queries."
      ]
    },
    {
      "cell_type": "code",
      "execution_count": 18,
      "metadata": {
        "id": "wutxvfXLlVzg",
        "outputId": "2ac93d5e-db3c-4157-d938-372358033019",
        "colab": {
          "base_uri": "https://localhost:8080/"
        }
      },
      "outputs": [
        {
          "output_type": "stream",
          "name": "stdout",
          "text": [
            "0 => what are celestial bodies made of\n",
            "1 => are elodea cells organisms\n",
            "2 => define pull\n",
            "3 => how long to wait to reapply with amazon\n",
            "4 => how old is captain man\n",
            "5 => tatum texas is in what county\n",
            "6 => jeanne tripplehorn played in what\n",
            "7 => define standard operating procedure template\n",
            "8 => when did oklahoma join the union\n",
            "9 => how long should cpr be performed\n"
          ]
        }
      ],
      "source": [
        "for i,v in enumerate(training_queries['query'].sample(10)):\n",
        "    print(i,'=>',v)"
      ]
    },
    {
      "cell_type": "markdown",
      "metadata": {
        "id": "vRepM3btlVzg"
      },
      "source": [
        "# Text Preprocessing"
      ]
    },
    {
      "cell_type": "markdown",
      "metadata": {
        "id": "kUXZtUvnlVzh"
      },
      "source": [
        "The pre-processing steps we’ll be performing on documents and queries are as follows:\n",
        "\n",
        "Documents:\n",
        "- Lowercase the text\n",
        "- Expand Contractions\n",
        "- Clean the text\n",
        "- Remove Stopwords\n",
        "- Lemmatize words\n",
        "\n",
        "\n",
        "Queries:\n",
        "- Lowercase the text\n",
        "- Expand Contractions\n",
        "- Clean the text"
      ]
    },
    {
      "cell_type": "code",
      "execution_count": 19,
      "metadata": {
        "id": "pc4YlQiKlVzh"
      },
      "outputs": [],
      "source": [
        "import re\n",
        "\n",
        "# Lowercasing the text\n",
        "training_corpus['cleaned']=training_corpus['body'].apply(lambda x:x.lower())\n",
        "testing_corpus['cleaned']=testing_corpus['body'].apply(lambda x:x.lower())\n",
        "\n",
        "# Dictionary of english Contractions\n",
        "contractions_dict = { \"ain't\": \"are not\",\"'s\":\" is\",\"aren't\": \"are not\",\"can't\": \"can not\",\"can't've\": \"cannot have\",\n",
        "\"'cause\": \"because\",\"could've\": \"could have\",\"couldn't\": \"could not\",\"couldn't've\": \"could not have\",\n",
        "\"didn't\": \"did not\",\"doesn't\": \"does not\",\"don't\": \"do not\",\"hadn't\": \"had not\",\"hadn't've\": \"had not have\",\n",
        "\"hasn't\": \"has not\",\"haven't\": \"have not\",\"he'd\": \"he would\",\"he'd've\": \"he would have\",\"he'll\": \"he will\",\n",
        "\"he'll've\": \"he will have\",\"how'd\": \"how did\",\"how'd'y\": \"how do you\",\"how'll\": \"how will\",\"i'd\": \"i would\",\n",
        "\"i'd've\": \"i would have\",\"i'll\": \"i will\",\"i'll've\": \"i will have\",\"i'm\": \"i am\",\"i've\": \"i have\",\n",
        "\"isn't\": \"is not\",\"it'd\": \"it would\",\"it'd've\": \"it would have\",\"it'll\": \"it will\",\"it'll've\": \"it will have\",\n",
        "\"let's\": \"let us\",\"ma'am\": \"madam\",\"mayn't\": \"may not\",\"might've\": \"might have\",\"mightn't\": \"might not\",\n",
        "\"mightn't've\": \"might not have\",\"must've\": \"must have\",\"mustn't\": \"must not\",\"mustn't've\": \"must not have\",\n",
        "\"needn't\": \"need not\",\"needn't've\": \"need not have\",\"o'clock\": \"of the clock\",\"oughtn't\": \"ought not\",\n",
        "\"oughtn't've\": \"ought not have\",\"shan't\": \"shall not\",\"sha'n't\": \"shall not\",\n",
        "\"shan't've\": \"shall not have\",\"she'd\": \"she would\",\"she'd've\": \"she would have\",\"she'll\": \"she will\",\n",
        "\"she'll've\": \"she will have\",\"should've\": \"should have\",\"shouldn't\": \"should not\",\n",
        "\"shouldn't've\": \"should not have\",\"so've\": \"so have\",\"that'd\": \"that would\",\"that'd've\": \"that would have\",\n",
        "\"there'd\": \"there would\",\"there'd've\": \"there would have\",\n",
        "\"they'd\": \"they would\",\"they'd've\": \"they would have\",\"they'll\": \"they will\",\"they'll've\": \"they will have\",\n",
        "\"they're\": \"they are\",\"they've\": \"they have\",\"to've\": \"to have\",\"wasn't\": \"was not\",\"we'd\": \"we would\",\n",
        "\"we'd've\": \"we would have\",\"we'll\": \"we will\",\"we'll've\": \"we will have\",\"we're\": \"we are\",\"we've\": \"we have\",\n",
        "\"weren't\": \"were not\",\"what'll\": \"what will\",\"what'll've\": \"what will have\",\"what're\": \"what are\",\n",
        "\"what've\": \"what have\",\"when've\": \"when have\",\"where'd\": \"where did\",\n",
        "\"where've\": \"where have\",\"who'll\": \"who will\",\"who'll've\": \"who will have\",\"who've\": \"who have\",\n",
        "\"why've\": \"why have\",\"will've\": \"will have\",\"won't\": \"will not\",\"won't've\": \"will not have\",\n",
        "\"would've\": \"would have\",\"wouldn't\": \"would not\",\"wouldn't've\": \"would not have\",\"y'all\": \"you all\",\n",
        "\"y'all'd\": \"you all would\",\"y'all'd've\": \"you all would have\",\"y'all're\": \"you all are\",\"y'all've\": \"you all have\",\n",
        "\"you'd\": \"you would\",\"you'd've\": \"you would have\",\"you'll\": \"you will\",\"you'll've\": \"you will have\",\n",
        "\"you're\": \"you are\",\"you've\": \"you have\"}\n",
        "\n",
        "# Regular expression for finding contractions\n",
        "contractions_re=re.compile('(%s)' % '|'.join(contractions_dict.keys()))\n",
        "\n",
        "# Function for expanding contractions\n",
        "def expand_contractions(text,contractions_dict=contractions_dict):\n",
        "    def replace(match):\n",
        "        return contractions_dict[match.group(0)]\n",
        "    return contractions_re.sub(replace, text)\n",
        "\n",
        "# Expanding Contractions\n",
        "training_corpus['cleaned']=training_corpus['cleaned'].apply(lambda x:expand_contractions(x))\n",
        "testing_corpus['cleaned']=testing_corpus['cleaned'].apply(lambda x:expand_contractions(x))"
      ]
    },
    {
      "cell_type": "markdown",
      "metadata": {
        "id": "0vGcPYG8lVzi"
      },
      "source": [
        "For cleaning the documents, we have created a function clean_text() which will remove the words with digits, replace newline characters with space, remove URLs, and replace everything that isn’t English alphabets with space."
      ]
    },
    {
      "cell_type": "code",
      "execution_count": 20,
      "metadata": {
        "id": "kO_8Q5S3lVzi"
      },
      "outputs": [],
      "source": [
        "# Function for Cleaning Text\n",
        "def clean_text(text):\n",
        "    text=re.sub('\\w*\\d\\w*','', text)\n",
        "    text=re.sub('\\n',' ',text)\n",
        "    text=re.sub(r\"http\\S+\", \"\", text)\n",
        "    text=re.sub('[^a-z]',' ',text)\n",
        "    return text\n",
        " \n",
        "# Cleaning corpus using RegEx\n",
        "training_corpus['cleaned']=training_corpus['cleaned'].apply(lambda x: clean_text(x))\n",
        "testing_corpus['cleaned']=testing_corpus['cleaned'].apply(lambda x: clean_text(x))"
      ]
    },
    {
      "cell_type": "markdown",
      "metadata": {
        "id": "9x5EopZLlVzj"
      },
      "source": [
        "We’ll reduce the number of spaces to one."
      ]
    },
    {
      "cell_type": "code",
      "execution_count": 21,
      "metadata": {
        "id": "QndjT5tFlVzj"
      },
      "outputs": [],
      "source": [
        "# Removing extra spaces\n",
        "training_corpus['cleaned']=training_corpus['cleaned'].apply(lambda x: re.sub(' +',' ',x))\n",
        "testing_corpus['cleaned']=testing_corpus['cleaned'].apply(lambda x: re.sub(' +',' ',x))"
      ]
    },
    {
      "cell_type": "markdown",
      "metadata": {
        "id": "78t1P2vMlVzk"
      },
      "source": [
        "Now, we will remove the stopwords from documents and lemmatize it. For this, we’ll be using SpaCy. "
      ]
    },
    {
      "cell_type": "code",
      "execution_count": 22,
      "metadata": {
        "scrolled": true,
        "id": "QFqZDTLqlVzk"
      },
      "outputs": [],
      "source": [
        "# Stopwords removal & Lemmatizing tokens using SpaCy\n",
        "import spacy\n",
        "from tqdm import tqdm\n",
        "nlp = spacy.load('en_core_web_sm',disable=['ner','parser'])\n",
        "nlp.max_length=2000000\n",
        "\n",
        "# Removing Stopwords and Lemmatizing words\n",
        "training_corpus['lemmatized']=training_corpus['cleaned'].apply(lambda x: ' '.join([token.lemma_ for token in list(nlp(x)) if (token.is_stop==False)]))\n",
        "testing_corpus['lemmatized']=testing_corpus['cleaned'].apply(lambda x: ' '.join([token.lemma_ for token in list(nlp(x)) if (token.is_stop==False)]))\n"
      ]
    },
    {
      "cell_type": "markdown",
      "metadata": {
        "id": "ZvIkh0ohlVzk"
      },
      "source": [
        "We have pre-processed the documents. It’s time to pre-process the queries."
      ]
    },
    {
      "cell_type": "code",
      "execution_count": 23,
      "metadata": {
        "id": "lIdgqqMilVzk"
      },
      "outputs": [],
      "source": [
        "# Lowercasing the text\n",
        "training_queries['cleaned']=training_queries['query'].apply(lambda x:x.lower())\n",
        "testing_queries['cleaned']=testing_queries['query'].apply(lambda x:x.lower())\n",
        "\n",
        "# Expanding contractions\n",
        "training_queries['cleaned']=training_queries['cleaned'].apply(lambda x:expand_contractions(x))\n",
        "testing_queries['cleaned']=testing_queries['cleaned'].apply(lambda x:expand_contractions(x))\n",
        "\n",
        "# Cleaning queries using RegEx\n",
        "training_queries['cleaned']=training_queries['cleaned'].apply(lambda x: clean_text(x))\n",
        "testing_queries['cleaned']=testing_queries['cleaned'].apply(lambda x: clean_text(x))\n",
        "\n",
        "# Removing extra spaces\n",
        "training_queries['cleaned']=training_queries['cleaned'].apply(lambda x: re.sub(' +',' ',x))\n",
        "testing_queries['cleaned']=testing_queries['cleaned'].apply(lambda x: re.sub(' +',' ',x))"
      ]
    },
    {
      "cell_type": "markdown",
      "metadata": {
        "id": "NDys52WFlVzl"
      },
      "source": [
        "# Creating Vectors"
      ]
    },
    {
      "cell_type": "markdown",
      "metadata": {
        "id": "zUJdLyjjlVzl"
      },
      "source": [
        "First, we’ll prepare the dataset for training the word2vec model."
      ]
    },
    {
      "cell_type": "code",
      "execution_count": 24,
      "metadata": {
        "id": "903NTSj4lVzl"
      },
      "outputs": [],
      "source": [
        "# Combining corpus and queries for training\n",
        "combined_training=pd.concat([training_corpus.rename(columns={'cleaned':'text'})['text'],\\\n",
        "                             training_queries.rename(columns={'cleaned':'text'})['text']])\\\n",
        "                             .sample(frac=1).reset_index(drop=True)"
      ]
    },
    {
      "cell_type": "markdown",
      "metadata": {
        "id": "DLU3MTs5lVzm"
      },
      "source": [
        "Now we’ll train our word2vec model with gensim."
      ]
    },
    {
      "cell_type": "code",
      "execution_count": 25,
      "metadata": {
        "id": "KEwrzzsOlVzm"
      },
      "outputs": [],
      "source": [
        "from gensim.models import Word2Vec\n",
        "\n",
        "# Creating data for the model training\n",
        "train_data=[]\n",
        "for i in combined_training:\n",
        "    train_data.append(i.split())\n",
        "\n",
        "# Training a word2vec model from the given data set\n",
        "w2v_model = Word2Vec(train_data, size=300, min_count=2,window=5, sg=1,workers=4)"
      ]
    },
    {
      "cell_type": "markdown",
      "metadata": {
        "id": "K8Ou_oHplVzm"
      },
      "source": [
        "Save the model in order to use it later."
      ]
    },
    {
      "cell_type": "code",
      "execution_count": 26,
      "metadata": {
        "id": "qS7X556ilVzn"
      },
      "outputs": [],
      "source": [
        "from gensim.models import Word2Vec\n",
        "w2v_model.save(\"word2vec.model\")\n",
        "w2v_model = Word2Vec.load(\"word2vec.model\")"
      ]
    },
    {
      "cell_type": "code",
      "execution_count": 27,
      "metadata": {
        "id": "fcEHYsM2lVzn",
        "outputId": "073f5a3e-c889-43d0-9ce4-57a239f67fd2",
        "colab": {
          "base_uri": "https://localhost:8080/"
        }
      },
      "outputs": [
        {
          "output_type": "stream",
          "name": "stdout",
          "text": [
            "Vocabulary size: 213556\n"
          ]
        }
      ],
      "source": [
        "# Vocabulary size\n",
        "print('Vocabulary size:', len(w2v_model.wv.vocab))"
      ]
    },
    {
      "cell_type": "markdown",
      "metadata": {
        "id": "w9oBTJJqlVzn"
      },
      "source": [
        "Since the word2vec provides vectors for a word, we’ll create a function get_embedding_w2v() for generating vectors for the whole document or query. This function will use the word2vec model and generate the vectors for each word in the document."
      ]
    },
    {
      "cell_type": "code",
      "execution_count": 28,
      "metadata": {
        "id": "Nb2CCWRhlVzo"
      },
      "outputs": [],
      "source": [
        "# Function returning vector reperesentation of a document\n",
        "def get_embedding_w2v(doc_tokens):\n",
        "    embeddings = []\n",
        "    if len(doc_tokens)<1:\n",
        "        return np.zeros(300)\n",
        "    else:\n",
        "        for tok in doc_tokens:\n",
        "            if tok in w2v_model.wv.vocab:\n",
        "                embeddings.append(w2v_model.wv.word_vec(tok))\n",
        "            else:\n",
        "                embeddings.append(np.random.rand(300))\n",
        "        # mean the vectors of individual words to get the vector of the document\n",
        "        return np.mean(embeddings, axis=0)\n",
        "\n",
        "# Getting Word2Vec Vectors for Testing Corpus and Queries\n",
        "testing_corpus['vector']=testing_corpus['cleaned'].apply(lambda x :get_embedding_w2v(x.split()))\n",
        "testing_queries['vector']=testing_queries['cleaned'].apply(lambda x :get_embedding_w2v(x.split()))"
      ]
    },
    {
      "cell_type": "markdown",
      "metadata": {
        "id": "yFP3a3UZlVzo"
      },
      "source": [
        "# Ranking & Evaluation"
      ]
    },
    {
      "cell_type": "markdown",
      "metadata": {
        "id": "w2tGsMmElVzo"
      },
      "source": [
        "We have successfully trained our word2vec model and created vectors for documents and queries in the testing set for information retrieval. Now, it’s time to rank the documents according to the queries."
      ]
    },
    {
      "cell_type": "markdown",
      "metadata": {
        "id": "HuDmew_dlVzp"
      },
      "source": [
        "For the ranking and evaluation, we have created a function average_precision(), which takes the query id and vector of a query as an input and returns the average precision value"
      ]
    },
    {
      "cell_type": "code",
      "execution_count": 29,
      "metadata": {
        "id": "iUBEHas_lVzp",
        "outputId": "ead36cae-0539-4306-f08a-e8d0976fe16c",
        "colab": {
          "base_uri": "https://localhost:8080/"
        }
      },
      "outputs": [
        {
          "output_type": "stream",
          "name": "stdout",
          "text": [
            "Mean Average Precision=> 0.809279887251197\n"
          ]
        }
      ],
      "source": [
        "from sklearn.metrics.pairwise import cosine_similarity\n",
        "\n",
        "# Function for calculating average precision for a query\n",
        "def average_precision(qid,qvector):\n",
        "  \n",
        "    # Getting the ground truth and document vectors\n",
        "    qresult=testing_result.loc[testing_result['qid']==qid,['docid','rel']]\n",
        "    qcorpus=testing_corpus.loc[testing_corpus['docid'].isin(qresult['docid']),['docid','vector']]\n",
        "    qresult=pd.merge(qresult,qcorpus,on='docid')\n",
        "  \n",
        "    # Ranking documents for the query\n",
        "    qresult['similarity']=qresult['vector'].apply(lambda x: cosine_similarity(np.array(qvector).reshape(1, -1),np.array(x).reshape(1, -1)).item())\n",
        "    qresult.sort_values(by='similarity',ascending=False,inplace=True)\n",
        "\n",
        "    # Taking Top 10 documents for the evaluation\n",
        "    ranking=qresult.head(10)['rel'].values\n",
        "  \n",
        "    # Calculating precision\n",
        "    precision=[]\n",
        "    for i in range(1,11):\n",
        "        if ranking[i-1]:\n",
        "            precision.append(np.sum(ranking[:i])/i)\n",
        "  \n",
        "    # If no relevant document in list then return 0\n",
        "    if precision==[]:\n",
        "        return 0\n",
        "\n",
        "    return np.mean(precision)\n",
        "\n",
        "# Calculating average precision for all queries in the test set\n",
        "testing_queries['AP']=testing_queries.apply(lambda x: average_precision(x['qid'],x['vector']),axis=1)\n",
        "\n",
        "# Finding Mean Average Precision\n",
        "print('Mean Average Precision=>',testing_queries['AP'].mean())"
      ]
    },
    {
      "cell_type": "markdown",
      "metadata": {
        "id": "3NteBb6_lVzp"
      },
      "source": [
        "The value of MAP ranges between 0 and 1, with zero being the worst and one as best. Our information retrieval model performs well in the evaluation with a value of 0.807."
      ]
    },
    {
      "cell_type": "markdown",
      "metadata": {
        "id": "rW2utLzRlVzq"
      },
      "source": [
        "# Final IR system"
      ]
    },
    {
      "cell_type": "markdown",
      "metadata": {
        "id": "jPJLKBghlVzq"
      },
      "source": [
        "We’ll create a function rank() that will take a query as an input and return the top 10 relevant documents. This function will follow the information retrieval(IR) pipeline. First, it will pre-process the query. Then, it will generate the vector for it. After that, it will rank the documents based on the similarity scores."
      ]
    },
    {
      "cell_type": "code",
      "execution_count": 30,
      "metadata": {
        "id": "7WhZ8ARllVzq"
      },
      "outputs": [],
      "source": [
        "def rank(query):\n",
        "\n",
        "    # pre-process Query\n",
        "    query=query.lower()\n",
        "    query=expand_contractions(query)\n",
        "    query=clean_text(query)\n",
        "    query=re.sub(' +',' ',query)\n",
        "\n",
        "    # generating vector\n",
        "    vector=get_embedding_w2v(query.split())\n",
        "\n",
        "    # ranking documents\n",
        "    documents=testing_corpus[['docid','title','body']].copy()\n",
        "    documents['similarity']=testing_corpus['vector'].apply(lambda x: cosine_similarity(np.array(vector).reshape(1, -1),np.array(x).reshape(1, -1)).item())\n",
        "    documents.sort_values(by='similarity',ascending=False,inplace=True)\n",
        "\n",
        "    return documents.head(10).reset_index(drop=True)"
      ]
    },
    {
      "cell_type": "markdown",
      "metadata": {
        "id": "ynbkyLUClVzr"
      },
      "source": [
        "We have now created our function. Let’s run some queries on our system."
      ]
    },
    {
      "cell_type": "code",
      "execution_count": 31,
      "metadata": {
        "id": "NJ4WPMtWlVzr",
        "outputId": "0231900a-e11c-4f2c-c5ee-b88baac5bed1",
        "colab": {
          "base_uri": "https://localhost:8080/",
          "height": 363
        }
      },
      "outputs": [
        {
          "output_type": "execute_result",
          "data": {
            "text/html": [
              "\n",
              "  <div id=\"df-bf91e0eb-6d1f-4cb7-ac55-b626c8d89e4f\">\n",
              "    <div class=\"colab-df-container\">\n",
              "      <div>\n",
              "<style scoped>\n",
              "    .dataframe tbody tr th:only-of-type {\n",
              "        vertical-align: middle;\n",
              "    }\n",
              "\n",
              "    .dataframe tbody tr th {\n",
              "        vertical-align: top;\n",
              "    }\n",
              "\n",
              "    .dataframe thead th {\n",
              "        text-align: right;\n",
              "    }\n",
              "</style>\n",
              "<table border=\"1\" class=\"dataframe\">\n",
              "  <thead>\n",
              "    <tr style=\"text-align: right;\">\n",
              "      <th></th>\n",
              "      <th>docid</th>\n",
              "      <th>title</th>\n",
              "      <th>body</th>\n",
              "      <th>similarity</th>\n",
              "    </tr>\n",
              "  </thead>\n",
              "  <tbody>\n",
              "    <tr>\n",
              "      <th>0</th>\n",
              "      <td>D2884360</td>\n",
              "      <td>Lebron James Net Worth</td>\n",
              "      <td>Lebron James Net Worth· In Athletes, Featured,...</td>\n",
              "      <td>0.729961</td>\n",
              "    </tr>\n",
              "    <tr>\n",
              "      <th>1</th>\n",
              "      <td>D2174689</td>\n",
              "      <td>Richard Lewis Mountain Men Dogs</td>\n",
              "      <td>Richard Lewis Mountain Men Dogs· In Celebritie...</td>\n",
              "      <td>0.724393</td>\n",
              "    </tr>\n",
              "    <tr>\n",
              "      <th>2</th>\n",
              "      <td>D3462570</td>\n",
              "      <td>Gates McFadden's Height</td>\n",
              "      <td>Gates Mc Fadden's height is 5 feet and 7.5 inc...</td>\n",
              "      <td>0.721263</td>\n",
              "    </tr>\n",
              "    <tr>\n",
              "      <th>3</th>\n",
              "      <td>D2962495</td>\n",
              "      <td>How Much Is Air Jordan Net Worth</td>\n",
              "      <td>Profession: Basketball player, Actor, Athlete,...</td>\n",
              "      <td>0.711546</td>\n",
              "    </tr>\n",
              "    <tr>\n",
              "      <th>4</th>\n",
              "      <td>D2170340</td>\n",
              "      <td>James Earl Ray</td>\n",
              "      <td>Wiki Answers ® Categories History, Politics &amp; ...</td>\n",
              "      <td>0.701007</td>\n",
              "    </tr>\n",
              "    <tr>\n",
              "      <th>5</th>\n",
              "      <td>D3140874</td>\n",
              "      <td>Michael Jordan Net Worth</td>\n",
              "      <td>Michael Jordan Net Worth· In Athletes, NBAMich...</td>\n",
              "      <td>0.698773</td>\n",
              "    </tr>\n",
              "    <tr>\n",
              "      <th>6</th>\n",
              "      <td>D307673</td>\n",
              "      <td>Notable Residents</td>\n",
              "      <td>Notable Residents Cedar Hill Cemetery is the f...</td>\n",
              "      <td>0.694169</td>\n",
              "    </tr>\n",
              "    <tr>\n",
              "      <th>7</th>\n",
              "      <td>D2514495</td>\n",
              "      <td>Baker (surname)</td>\n",
              "      <td>From Wikipedia, the free encyclopedianavigatio...</td>\n",
              "      <td>0.694144</td>\n",
              "    </tr>\n",
              "    <tr>\n",
              "      <th>8</th>\n",
              "      <td>D1656700</td>\n",
              "      <td>What nba team did Michael Jordan get drafted to?</td>\n",
              "      <td>What nba team did Michael Jordan get drafted t...</td>\n",
              "      <td>0.692740</td>\n",
              "    </tr>\n",
              "    <tr>\n",
              "      <th>9</th>\n",
              "      <td>D3105795</td>\n",
              "      <td>How Much Brian_wilson Worth</td>\n",
              "      <td>Profession: Singer, Songwriter, Record produce...</td>\n",
              "      <td>0.690333</td>\n",
              "    </tr>\n",
              "  </tbody>\n",
              "</table>\n",
              "</div>\n",
              "      <button class=\"colab-df-convert\" onclick=\"convertToInteractive('df-bf91e0eb-6d1f-4cb7-ac55-b626c8d89e4f')\"\n",
              "              title=\"Convert this dataframe to an interactive table.\"\n",
              "              style=\"display:none;\">\n",
              "        \n",
              "  <svg xmlns=\"http://www.w3.org/2000/svg\" height=\"24px\"viewBox=\"0 0 24 24\"\n",
              "       width=\"24px\">\n",
              "    <path d=\"M0 0h24v24H0V0z\" fill=\"none\"/>\n",
              "    <path d=\"M18.56 5.44l.94 2.06.94-2.06 2.06-.94-2.06-.94-.94-2.06-.94 2.06-2.06.94zm-11 1L8.5 8.5l.94-2.06 2.06-.94-2.06-.94L8.5 2.5l-.94 2.06-2.06.94zm10 10l.94 2.06.94-2.06 2.06-.94-2.06-.94-.94-2.06-.94 2.06-2.06.94z\"/><path d=\"M17.41 7.96l-1.37-1.37c-.4-.4-.92-.59-1.43-.59-.52 0-1.04.2-1.43.59L10.3 9.45l-7.72 7.72c-.78.78-.78 2.05 0 2.83L4 21.41c.39.39.9.59 1.41.59.51 0 1.02-.2 1.41-.59l7.78-7.78 2.81-2.81c.8-.78.8-2.07 0-2.86zM5.41 20L4 18.59l7.72-7.72 1.47 1.35L5.41 20z\"/>\n",
              "  </svg>\n",
              "      </button>\n",
              "      \n",
              "  <style>\n",
              "    .colab-df-container {\n",
              "      display:flex;\n",
              "      flex-wrap:wrap;\n",
              "      gap: 12px;\n",
              "    }\n",
              "\n",
              "    .colab-df-convert {\n",
              "      background-color: #E8F0FE;\n",
              "      border: none;\n",
              "      border-radius: 50%;\n",
              "      cursor: pointer;\n",
              "      display: none;\n",
              "      fill: #1967D2;\n",
              "      height: 32px;\n",
              "      padding: 0 0 0 0;\n",
              "      width: 32px;\n",
              "    }\n",
              "\n",
              "    .colab-df-convert:hover {\n",
              "      background-color: #E2EBFA;\n",
              "      box-shadow: 0px 1px 2px rgba(60, 64, 67, 0.3), 0px 1px 3px 1px rgba(60, 64, 67, 0.15);\n",
              "      fill: #174EA6;\n",
              "    }\n",
              "\n",
              "    [theme=dark] .colab-df-convert {\n",
              "      background-color: #3B4455;\n",
              "      fill: #D2E3FC;\n",
              "    }\n",
              "\n",
              "    [theme=dark] .colab-df-convert:hover {\n",
              "      background-color: #434B5C;\n",
              "      box-shadow: 0px 1px 3px 1px rgba(0, 0, 0, 0.15);\n",
              "      filter: drop-shadow(0px 1px 2px rgba(0, 0, 0, 0.3));\n",
              "      fill: #FFFFFF;\n",
              "    }\n",
              "  </style>\n",
              "\n",
              "      <script>\n",
              "        const buttonEl =\n",
              "          document.querySelector('#df-bf91e0eb-6d1f-4cb7-ac55-b626c8d89e4f button.colab-df-convert');\n",
              "        buttonEl.style.display =\n",
              "          google.colab.kernel.accessAllowed ? 'block' : 'none';\n",
              "\n",
              "        async function convertToInteractive(key) {\n",
              "          const element = document.querySelector('#df-bf91e0eb-6d1f-4cb7-ac55-b626c8d89e4f');\n",
              "          const dataTable =\n",
              "            await google.colab.kernel.invokeFunction('convertToInteractive',\n",
              "                                                     [key], {});\n",
              "          if (!dataTable) return;\n",
              "\n",
              "          const docLinkHtml = 'Like what you see? Visit the ' +\n",
              "            '<a target=\"_blank\" href=https://colab.research.google.com/notebooks/data_table.ipynb>data table notebook</a>'\n",
              "            + ' to learn more about interactive tables.';\n",
              "          element.innerHTML = '';\n",
              "          dataTable['output_type'] = 'display_data';\n",
              "          await google.colab.output.renderOutput(dataTable, element);\n",
              "          const docLink = document.createElement('div');\n",
              "          docLink.innerHTML = docLinkHtml;\n",
              "          element.appendChild(docLink);\n",
              "        }\n",
              "      </script>\n",
              "    </div>\n",
              "  </div>\n",
              "  "
            ],
            "text/plain": [
              "      docid  ... similarity\n",
              "0  D2884360  ...   0.729961\n",
              "1  D2174689  ...   0.724393\n",
              "2  D3462570  ...   0.721263\n",
              "3  D2962495  ...   0.711546\n",
              "4  D2170340  ...   0.701007\n",
              "5  D3140874  ...   0.698773\n",
              "6   D307673  ...   0.694169\n",
              "7  D2514495  ...   0.694144\n",
              "8  D1656700  ...   0.692740\n",
              "9  D3105795  ...   0.690333\n",
              "\n",
              "[10 rows x 4 columns]"
            ]
          },
          "metadata": {},
          "execution_count": 31
        }
      ],
      "source": [
        "rank('Lebron James')"
      ]
    },
    {
      "cell_type": "code",
      "execution_count": 32,
      "metadata": {
        "id": "8oQ2KzoulVzr",
        "outputId": "a7317825-d999-4bf6-d567-7481f4ed069d",
        "colab": {
          "base_uri": "https://localhost:8080/",
          "height": 363
        }
      },
      "outputs": [
        {
          "output_type": "execute_result",
          "data": {
            "text/html": [
              "\n",
              "  <div id=\"df-bbe057e8-d973-40b5-b187-446b038dc41e\">\n",
              "    <div class=\"colab-df-container\">\n",
              "      <div>\n",
              "<style scoped>\n",
              "    .dataframe tbody tr th:only-of-type {\n",
              "        vertical-align: middle;\n",
              "    }\n",
              "\n",
              "    .dataframe tbody tr th {\n",
              "        vertical-align: top;\n",
              "    }\n",
              "\n",
              "    .dataframe thead th {\n",
              "        text-align: right;\n",
              "    }\n",
              "</style>\n",
              "<table border=\"1\" class=\"dataframe\">\n",
              "  <thead>\n",
              "    <tr style=\"text-align: right;\">\n",
              "      <th></th>\n",
              "      <th>docid</th>\n",
              "      <th>title</th>\n",
              "      <th>body</th>\n",
              "      <th>similarity</th>\n",
              "    </tr>\n",
              "  </thead>\n",
              "  <tbody>\n",
              "    <tr>\n",
              "      <th>0</th>\n",
              "      <td>D159866</td>\n",
              "      <td>Donald J. Trump Ethnicity</td>\n",
              "      <td>Profession: Entrepreneur, Businessperson, Chie...</td>\n",
              "      <td>0.855226</td>\n",
              "    </tr>\n",
              "    <tr>\n",
              "      <th>1</th>\n",
              "      <td>D3178058</td>\n",
              "      <td>Trump orders two-for-one repeal for all new re...</td>\n",
              "      <td>President Donald Trump has signed an executive...</td>\n",
              "      <td>0.685670</td>\n",
              "    </tr>\n",
              "    <tr>\n",
              "      <th>2</th>\n",
              "      <td>D1220002</td>\n",
              "      <td>Trumpâs border wall: Could he really do it?</td>\n",
              "      <td>President Donald Trump is expected to direct f...</td>\n",
              "      <td>0.684918</td>\n",
              "    </tr>\n",
              "    <tr>\n",
              "      <th>3</th>\n",
              "      <td>D279972</td>\n",
              "      <td>Donald Trump</td>\n",
              "      <td>Donald Trump⇒ Annual salary *: $ 42,000,000Sin...</td>\n",
              "      <td>0.680607</td>\n",
              "    </tr>\n",
              "    <tr>\n",
              "      <th>4</th>\n",
              "      <td>D2872720</td>\n",
              "      <td>Is Donald Trump a Republican?</td>\n",
              "      <td>Answers.com ® Wiki Answers ® Categories Histor...</td>\n",
              "      <td>0.668382</td>\n",
              "    </tr>\n",
              "    <tr>\n",
              "      <th>5</th>\n",
              "      <td>D1746708</td>\n",
              "      <td>Who was chosen as Richard Nixon's Vice Preside...</td>\n",
              "      <td>Answers.com ® Wiki Answers ® Categories Histor...</td>\n",
              "      <td>0.650983</td>\n",
              "    </tr>\n",
              "    <tr>\n",
              "      <th>6</th>\n",
              "      <td>D1746707</td>\n",
              "      <td>Who was chosen as Richard Nixon's Vice Preside...</td>\n",
              "      <td>Answers.com ® Wiki Answers ® Categories Histor...</td>\n",
              "      <td>0.650801</td>\n",
              "    </tr>\n",
              "    <tr>\n",
              "      <th>7</th>\n",
              "      <td>D285707</td>\n",
              "      <td>Republican Party (United States)</td>\n",
              "      <td>From Wikipedia, the free encyclopedianavigatio...</td>\n",
              "      <td>0.631300</td>\n",
              "    </tr>\n",
              "    <tr>\n",
              "      <th>8</th>\n",
              "      <td>D2162101</td>\n",
              "      <td>Why was President Nixon impeached?</td>\n",
              "      <td>Answers.com ® Wiki Answers ® Categories Histor...</td>\n",
              "      <td>0.629270</td>\n",
              "    </tr>\n",
              "    <tr>\n",
              "      <th>9</th>\n",
              "      <td>D3432573</td>\n",
              "      <td>Donald Trump's noteworthy tweets as president</td>\n",
              "      <td>By Newsday.com staff Updated November 30, 2017...</td>\n",
              "      <td>0.629237</td>\n",
              "    </tr>\n",
              "  </tbody>\n",
              "</table>\n",
              "</div>\n",
              "      <button class=\"colab-df-convert\" onclick=\"convertToInteractive('df-bbe057e8-d973-40b5-b187-446b038dc41e')\"\n",
              "              title=\"Convert this dataframe to an interactive table.\"\n",
              "              style=\"display:none;\">\n",
              "        \n",
              "  <svg xmlns=\"http://www.w3.org/2000/svg\" height=\"24px\"viewBox=\"0 0 24 24\"\n",
              "       width=\"24px\">\n",
              "    <path d=\"M0 0h24v24H0V0z\" fill=\"none\"/>\n",
              "    <path d=\"M18.56 5.44l.94 2.06.94-2.06 2.06-.94-2.06-.94-.94-2.06-.94 2.06-2.06.94zm-11 1L8.5 8.5l.94-2.06 2.06-.94-2.06-.94L8.5 2.5l-.94 2.06-2.06.94zm10 10l.94 2.06.94-2.06 2.06-.94-2.06-.94-.94-2.06-.94 2.06-2.06.94z\"/><path d=\"M17.41 7.96l-1.37-1.37c-.4-.4-.92-.59-1.43-.59-.52 0-1.04.2-1.43.59L10.3 9.45l-7.72 7.72c-.78.78-.78 2.05 0 2.83L4 21.41c.39.39.9.59 1.41.59.51 0 1.02-.2 1.41-.59l7.78-7.78 2.81-2.81c.8-.78.8-2.07 0-2.86zM5.41 20L4 18.59l7.72-7.72 1.47 1.35L5.41 20z\"/>\n",
              "  </svg>\n",
              "      </button>\n",
              "      \n",
              "  <style>\n",
              "    .colab-df-container {\n",
              "      display:flex;\n",
              "      flex-wrap:wrap;\n",
              "      gap: 12px;\n",
              "    }\n",
              "\n",
              "    .colab-df-convert {\n",
              "      background-color: #E8F0FE;\n",
              "      border: none;\n",
              "      border-radius: 50%;\n",
              "      cursor: pointer;\n",
              "      display: none;\n",
              "      fill: #1967D2;\n",
              "      height: 32px;\n",
              "      padding: 0 0 0 0;\n",
              "      width: 32px;\n",
              "    }\n",
              "\n",
              "    .colab-df-convert:hover {\n",
              "      background-color: #E2EBFA;\n",
              "      box-shadow: 0px 1px 2px rgba(60, 64, 67, 0.3), 0px 1px 3px 1px rgba(60, 64, 67, 0.15);\n",
              "      fill: #174EA6;\n",
              "    }\n",
              "\n",
              "    [theme=dark] .colab-df-convert {\n",
              "      background-color: #3B4455;\n",
              "      fill: #D2E3FC;\n",
              "    }\n",
              "\n",
              "    [theme=dark] .colab-df-convert:hover {\n",
              "      background-color: #434B5C;\n",
              "      box-shadow: 0px 1px 3px 1px rgba(0, 0, 0, 0.15);\n",
              "      filter: drop-shadow(0px 1px 2px rgba(0, 0, 0, 0.3));\n",
              "      fill: #FFFFFF;\n",
              "    }\n",
              "  </style>\n",
              "\n",
              "      <script>\n",
              "        const buttonEl =\n",
              "          document.querySelector('#df-bbe057e8-d973-40b5-b187-446b038dc41e button.colab-df-convert');\n",
              "        buttonEl.style.display =\n",
              "          google.colab.kernel.accessAllowed ? 'block' : 'none';\n",
              "\n",
              "        async function convertToInteractive(key) {\n",
              "          const element = document.querySelector('#df-bbe057e8-d973-40b5-b187-446b038dc41e');\n",
              "          const dataTable =\n",
              "            await google.colab.kernel.invokeFunction('convertToInteractive',\n",
              "                                                     [key], {});\n",
              "          if (!dataTable) return;\n",
              "\n",
              "          const docLinkHtml = 'Like what you see? Visit the ' +\n",
              "            '<a target=\"_blank\" href=https://colab.research.google.com/notebooks/data_table.ipynb>data table notebook</a>'\n",
              "            + ' to learn more about interactive tables.';\n",
              "          element.innerHTML = '';\n",
              "          dataTable['output_type'] = 'display_data';\n",
              "          await google.colab.output.renderOutput(dataTable, element);\n",
              "          const docLink = document.createElement('div');\n",
              "          docLink.innerHTML = docLinkHtml;\n",
              "          element.appendChild(docLink);\n",
              "        }\n",
              "      </script>\n",
              "    </div>\n",
              "  </div>\n",
              "  "
            ],
            "text/plain": [
              "      docid  ... similarity\n",
              "0   D159866  ...   0.855226\n",
              "1  D3178058  ...   0.685670\n",
              "2  D1220002  ...   0.684918\n",
              "3   D279972  ...   0.680607\n",
              "4  D2872720  ...   0.668382\n",
              "5  D1746708  ...   0.650983\n",
              "6  D1746707  ...   0.650801\n",
              "7   D285707  ...   0.631300\n",
              "8  D2162101  ...   0.629270\n",
              "9  D3432573  ...   0.629237\n",
              "\n",
              "[10 rows x 4 columns]"
            ]
          },
          "metadata": {},
          "execution_count": 32
        }
      ],
      "source": [
        "rank('President Donald Trump')"
      ]
    },
    {
      "cell_type": "code",
      "execution_count": 32,
      "metadata": {
        "id": "KjoJ79RvlVzs"
      },
      "outputs": [],
      "source": [
        ""
      ]
    }
  ],
  "metadata": {
    "colab": {
      "name": "Final_project_information_retrieval_system.ipynb",
      "provenance": [],
      "include_colab_link": true
    },
    "kernelspec": {
      "display_name": "Python 3",
      "language": "python",
      "name": "python3"
    },
    "language_info": {
      "codemirror_mode": {
        "name": "ipython",
        "version": 3
      },
      "file_extension": ".py",
      "mimetype": "text/x-python",
      "name": "python",
      "nbconvert_exporter": "python",
      "pygments_lexer": "ipython3",
      "version": "3.7.6"
    }
  },
  "nbformat": 4,
  "nbformat_minor": 0
}